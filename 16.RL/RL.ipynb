{
 "cells": [
  {
   "cell_type": "code",
   "execution_count": 1,
   "metadata": {},
   "outputs": [],
   "source": [
    "from pyvirtualdisplay import Display\n",
    "import matplotlib.pyplot as plt\n",
    "from IPython import display\n",
    "import numpy as np\n",
    "import torch\n",
    "import torch.nn as nn\n",
    "import torch.optim as optim\n",
    "import torch.nn.functional as F\n",
    "from torch.distributions import Categorical\n",
    "from tqdm.notebook import tqdm\n",
    "import gym"
   ]
  },
  {
   "cell_type": "code",
   "execution_count": 4,
   "metadata": {},
   "outputs": [],
   "source": [
    "virtual_display = Display(visible=0, size=(1400, 900))\n",
    "env = gym.make('LunarLander-v2')"
   ]
  },
  {
   "cell_type": "code",
   "execution_count": 24,
   "metadata": {},
   "outputs": [
    {
     "data": {
      "image/png": "[encoded data removed]",
      "text/plain": [
       "<Figure size 432x288 with 1 Axes>"
      ]
     },
     "metadata": {
      "needs_background": "light"
     },
     "output_type": "display_data"
    }
   ],
   "source": [
    "## random agent\n",
    "env.reset()\n",
    "\n",
    "img = plt.imshow(env.render(mode='rgb_array'))\n",
    "\n",
    "done = False\n",
    "while not done:\n",
    "    action = env.action_space.sample()\n",
    "    observation, reward, done, _ = env.step(action)\n",
    "\n",
    "    img.set_data(env.render(mode='rgb_array'))\n",
    "    display.display(plt.gcf())\n",
    "    display.clear_output(wait=True)"
   ]
  },
  {
   "cell_type": "code",
   "execution_count": 10,
   "metadata": {},
   "outputs": [],
   "source": [
    "class PolicyGradientNetwork(nn.Module):\n",
    "    def __init__(self):\n",
    "        super().__init__()\n",
    "        self.fc1 = nn.Linear(8, 16)\n",
    "        self.fc2 = nn.Linear(16, 16)\n",
    "        self.fc3 = nn.Linear(16, 4)\n",
    "\n",
    "    def forward(self, state):\n",
    "        hid = torch.tanh(self.fc1(state))\n",
    "        hid = torch.tanh(self.fc2(hid))\n",
    "        return F.softmax(self.fc3(hid), dim=-1)"
   ]
  },
  {
   "cell_type": "code",
   "execution_count": 13,
   "metadata": {},
   "outputs": [],
   "source": [
    "class PolicyGradientAgent():\n",
    "    def __init__(self,network):\n",
    "        self.network=network\n",
    "        self.optimizer=optim.SGD(self.network.parameters(),lr=0.001)\n",
    "    def learn(self,log_probs,rewards):\n",
    "        # turn to DoubleTensor\n",
    "        log_probs=log_probs.type(torch.DoubleTensor)\n",
    "        rewards=rewards.type(torch.DoubleTensor)\n",
    "        loss=(-log_probs*rewards).sum()\n",
    "        self.optimizer.zero_grad()\n",
    "        loss.backward()\n",
    "        self.optimizer.step()\n",
    "    def sample(self,state):\n",
    "        action_prob=self.network(torch.FloatTensor(state))\n",
    "        action_dist=Categorical(action_prob) # 按照传入的probs中给定的概率，在相应的位置处进行取样，取样返回的是该位置的整数索引。\n",
    "        action=action_dist.sample()\n",
    "        log_prob=action_dist.log_prob(action)\n",
    "        return action.item(),log_prob"
   ]
  },
  {
   "cell_type": "code",
   "execution_count": 25,
   "metadata": {},
   "outputs": [],
   "source": [
    "network=PolicyGradientNetwork()\n",
    "agent=PolicyGradientAgent(network)"
   ]
  },
  {
   "cell_type": "code",
   "execution_count": 26,
   "metadata": {},
   "outputs": [],
   "source": [
    "agent.network.train()\n",
    "EPISODE_PER_BATCH = 5  \n",
    "NUM_BATCH = 500"
   ]
  },
  {
   "cell_type": "code",
   "execution_count": 27,
   "metadata": {},
   "outputs": [
    {
     "data": {
      "application/vnd.jupyter.widget-view+json": {
       "model_id": "d67f69f4e26647049a48ce6bc20e9429",
       "version_major": 2,
       "version_minor": 0
      },
      "text/plain": [
       "HBox(children=(FloatProgress(value=0.0, max=500.0), HTML(value='')))"
      ]
     },
     "metadata": {},
     "output_type": "display_data"
    },
    {
     "name": "stdout",
     "output_type": "stream",
     "text": [
      "\n"
     ]
    }
   ],
   "source": [
    "avg_total_rewards=[]\n",
    "avg_final_rewards=[]\n",
    "prg_bar = tqdm(range(NUM_BATCH))# 进度条\n",
    "for bar in prg_bar:\n",
    "    log_probs=[]\n",
    "    rewards=[]# 同一个episode最后共享reward\n",
    "    total_rewards=[]# 保存每个episode总共的reward\n",
    "    final_rewards=[]# 保存每个episode最后一步的reward\n",
    "    for episode in range(EPISODE_PER_BATCH):\n",
    "        state=env.reset()\n",
    "        total_reward,total_step=0,0\n",
    "        while True:\n",
    "            action,log_prob=agent.sample(state)\n",
    "            next_state,reward,done,_=env.step(action)\n",
    "            log_probs.append(log_prob)\n",
    "            total_reward+=reward\n",
    "            total_step+=1\n",
    "            state=next_state\n",
    "            \n",
    "            # end of episode\n",
    "            if done:\n",
    "                total_rewards.append(total_reward)\n",
    "                final_rewards.append(reward)\n",
    "                # set reward the same for all actions in one episode\n",
    "                rewards.append(np.full(total_step, total_reward))\n",
    "                break\n",
    "    # record training process\n",
    "    avg_total_reward = sum(total_rewards) / len(total_rewards)\n",
    "    avg_final_reward = sum(final_rewards) / len(final_rewards)\n",
    "    avg_total_rewards.append(avg_total_reward)\n",
    "    avg_final_rewards.append(avg_final_reward)\n",
    "    prg_bar.set_description(f\"Total: {avg_total_reward: 4.1f}, Final: {avg_final_reward: 4.1f}\")\n",
    "    # update network\n",
    "    rewards=np.concatenate(rewards,axis=0)\n",
    "    rewards=(rewards-np.mean(rewards))/(np.std(rewards)+1e-9)\n",
    "    agent.learn(torch.stack(log_probs),torch.from_numpy(rewards))"
   ]
  },
  {
   "cell_type": "code",
   "execution_count": 28,
   "metadata": {},
   "outputs": [
    {
     "data": {
      "image/png": "[encoded data removed]",
      "text/plain": [
       "<Figure size 432x288 with 1 Axes>"
      ]
     },
     "metadata": {
      "needs_background": "light"
     },
     "output_type": "display_data"
    }
   ],
   "source": [
    "agent.network.eval()\n",
    "state=env.reset()\n",
    "img = plt.imshow(env.render(mode='rgb_array'))\n",
    "total_reward=0\n",
    "done=False\n",
    "while not done:\n",
    "    action,_=agent.sample(state)\n",
    "    new_state,reward,done,_=env.step(action)\n",
    "    state=new_state\n",
    "    total_reward+=reward\n",
    "    img.set_data(env.render(mode='rgb_array'))\n",
    "    display.display(plt.gcf())\n",
    "    display.clear_output(wait=True)"
   ]
  },
  {
   "cell_type": "code",
   "execution_count": 29,
   "metadata": {},
   "outputs": [
    {
     "data": {
      "text/plain": [
       "-148.83765630428798"
      ]
     },
     "execution_count": 29,
     "metadata": {},
     "output_type": "execute_result"
    }
   ],
   "source": [
    "total_reward"
   ]
  }
 ],
 "metadata": {
  "kernelspec": {
   "display_name": "Python (pytorch-gpu-py36)",
   "language": "python",
   "name": "pytorch_gpu"
  },
  "language_info": {
   "codemirror_mode": {
    "name": "ipython",
    "version": 3
   },
   "file_extension": ".py",
   "mimetype": "text/x-python",
   "name": "python",
   "nbconvert_exporter": "python",
   "pygments_lexer": "ipython3",
   "version": "3.6.10"
  }
 },
 "nbformat": 4,
 "nbformat_minor": 2
}

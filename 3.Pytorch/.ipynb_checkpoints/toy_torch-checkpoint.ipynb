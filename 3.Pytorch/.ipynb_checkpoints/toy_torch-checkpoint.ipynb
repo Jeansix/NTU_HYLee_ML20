{
 "cells": [
  {
   "cell_type": "code",
   "execution_count": 1,
   "metadata": {},
   "outputs": [],
   "source": [
    "import torch\n",
    "import torch.nn as nn\n",
    "import torch.nn.functional as F\n",
    "\n",
    "import matplotlib.pyplot as plt\n",
    "import numpy as np"
   ]
  },
  {
   "cell_type": "markdown",
   "metadata": {},
   "source": [
    "#### Relationship between numpy and torch"
   ]
  },
  {
   "cell_type": "code",
   "execution_count": 2,
   "metadata": {},
   "outputs": [],
   "source": [
    "x_numpy=np.array([0.1,0.2,0.3])\n",
    "x_torch=torch.tensor([0.1,0.2,0.3])"
   ]
  },
  {
   "cell_type": "code",
   "execution_count": 3,
   "metadata": {},
   "outputs": [
    {
     "data": {
      "text/plain": [
       "tensor([0.1000, 0.2000, 0.3000], dtype=torch.float64)"
      ]
     },
     "execution_count": 3,
     "metadata": {},
     "output_type": "execute_result"
    }
   ],
   "source": [
    "torch.from_numpy(x_numpy)"
   ]
  },
  {
   "cell_type": "code",
   "execution_count": 4,
   "metadata": {},
   "outputs": [
    {
     "data": {
      "text/plain": [
       "array([0.1, 0.2, 0.3], dtype=float32)"
      ]
     },
     "execution_count": 4,
     "metadata": {},
     "output_type": "execute_result"
    }
   ],
   "source": [
    "x_torch.numpy()"
   ]
  },
  {
   "cell_type": "code",
   "execution_count": 5,
   "metadata": {},
   "outputs": [],
   "source": [
    "y_numpy=x_torch.numpy()"
   ]
  },
  {
   "cell_type": "markdown",
   "metadata": {},
   "source": [
    "修改了y_numpy以后，x_torch也会被修改"
   ]
  },
  {
   "cell_type": "code",
   "execution_count": 8,
   "metadata": {},
   "outputs": [],
   "source": [
    "y_numpy[0]=0.1"
   ]
  },
  {
   "cell_type": "code",
   "execution_count": 9,
   "metadata": {},
   "outputs": [
    {
     "data": {
      "text/plain": [
       "tensor([0.1000, 0.2000, 0.3000])"
      ]
     },
     "execution_count": 9,
     "metadata": {},
     "output_type": "execute_result"
    }
   ],
   "source": [
    "x_torch"
   ]
  },
  {
   "cell_type": "code",
   "execution_count": 10,
   "metadata": {},
   "outputs": [],
   "source": [
    "y_torch=torch.from_numpy(x_numpy)"
   ]
  },
  {
   "cell_type": "code",
   "execution_count": 11,
   "metadata": {},
   "outputs": [
    {
     "data": {
      "text/plain": [
       "tensor([0.1000, 0.2000, 0.3000], dtype=torch.float64)"
      ]
     },
     "execution_count": 11,
     "metadata": {},
     "output_type": "execute_result"
    }
   ],
   "source": [
    "y_torch"
   ]
  },
  {
   "cell_type": "code",
   "execution_count": 12,
   "metadata": {},
   "outputs": [
    {
     "data": {
      "text/plain": [
       "tensor([[0.2000]])"
      ]
     },
     "execution_count": 12,
     "metadata": {},
     "output_type": "execute_result"
    }
   ],
   "source": [
    "torch.mean(x_torch,dim=0).reshape(-1,1)"
   ]
  },
  {
   "cell_type": "code",
   "execution_count": 13,
   "metadata": {},
   "outputs": [],
   "source": [
    "N,C,W,H=10000,3,28,28\n",
    "x=torch.randn((N,C,W,H))"
   ]
  },
  {
   "cell_type": "code",
   "execution_count": 14,
   "metadata": {},
   "outputs": [
    {
     "data": {
      "text/plain": [
       "torch.Size([10000, 3, 28, 28])"
      ]
     },
     "execution_count": 14,
     "metadata": {},
     "output_type": "execute_result"
    }
   ],
   "source": [
    "x.shape"
   ]
  },
  {
   "cell_type": "code",
   "execution_count": 15,
   "metadata": {},
   "outputs": [
    {
     "data": {
      "text/plain": [
       "torch.Size([10000, 3, 784])"
      ]
     },
     "execution_count": 15,
     "metadata": {},
     "output_type": "execute_result"
    }
   ],
   "source": [
    "x.view(N,C,-1).shape"
   ]
  },
  {
   "cell_type": "code",
   "execution_count": 16,
   "metadata": {},
   "outputs": [
    {
     "data": {
      "text/plain": [
       "torch.Size([10000, 3, 784])"
      ]
     },
     "execution_count": 16,
     "metadata": {},
     "output_type": "execute_result"
    }
   ],
   "source": [
    "x.view(-1,C,784).shape # -1表示自动调整大小，只能出现一次"
   ]
  },
  {
   "cell_type": "code",
   "execution_count": 17,
   "metadata": {},
   "outputs": [
    {
     "name": "stdout",
     "output_type": "stream",
     "text": [
      "torch.Size([5, 3, 4, 1])\n"
     ]
    }
   ],
   "source": [
    "x=torch.empty(5,1,4,1)\n",
    "y=torch.empty(3,1,1)\n",
    "print((x+y).shape) # 短的和长的要能对齐（某一维度一样）"
   ]
  },
  {
   "cell_type": "markdown",
   "metadata": {},
   "source": [
    "#### device"
   ]
  },
  {
   "cell_type": "code",
   "execution_count": 18,
   "metadata": {},
   "outputs": [
    {
     "name": "stdout",
     "output_type": "stream",
     "text": [
      "tensor([0.0568, 0.6882, 0.6522, 0.7559, 0.2006, 0.6792, 0.8313, 0.9482, 0.7418,\n",
      "        0.5824])\n",
      "tensor([0.0568, 0.6882, 0.6522, 0.7559, 0.2006, 0.6792, 0.8313, 0.9482, 0.7418,\n",
      "        0.5824], device='cuda:0')\n",
      "tensor([0.0568, 0.6882, 0.6522, 0.7559, 0.2006, 0.6792, 0.8313, 0.9482, 0.7418,\n",
      "        0.5824])\n"
     ]
    }
   ],
   "source": [
    "cpu=torch.device(\"cpu\")\n",
    "gpu=torch.device(\"cuda\")\n",
    "\n",
    "x=torch.rand(10)\n",
    "print(x)\n",
    "x=x.to(gpu)# 会显示device=\"cuda:0\"\n",
    "print(x)\n",
    "x=x.to(cpu)\n",
    "print(x)"
   ]
  },
  {
   "cell_type": "markdown",
   "metadata": {},
   "source": [
    "#### auto gradient mechanism"
   ]
  },
  {
   "cell_type": "code",
   "execution_count": 19,
   "metadata": {},
   "outputs": [],
   "source": [
    "a=torch.tensor(2.0,requires_grad=True)\n",
    "b=torch.tensor(1.0,requires_grad=True)"
   ]
  },
  {
   "cell_type": "code",
   "execution_count": 20,
   "metadata": {},
   "outputs": [],
   "source": [
    "c=a+b\n",
    "d=b+1\n",
    "e=c*d"
   ]
  },
  {
   "cell_type": "code",
   "execution_count": 21,
   "metadata": {},
   "outputs": [
    {
     "data": {
      "text/plain": [
       "tensor(3., grad_fn=<AddBackward0>)"
      ]
     },
     "execution_count": 21,
     "metadata": {},
     "output_type": "execute_result"
    }
   ],
   "source": [
    "c"
   ]
  },
  {
   "cell_type": "code",
   "execution_count": 22,
   "metadata": {},
   "outputs": [],
   "source": [
    "def f(x):\n",
    "    return (x-2)**2\n",
    "\n",
    "def fp(x):\n",
    "    return 2*(x-2)\n",
    "\n",
    "x=torch.tensor([[1.0]],requires_grad=True)\n",
    "y=f(x)\n",
    "y.backward()"
   ]
  },
  {
   "cell_type": "code",
   "execution_count": 23,
   "metadata": {},
   "outputs": [
    {
     "data": {
      "text/plain": [
       "tensor([[-2.]], grad_fn=<MulBackward0>)"
      ]
     },
     "execution_count": 23,
     "metadata": {},
     "output_type": "execute_result"
    }
   ],
   "source": [
    "fp(x)"
   ]
  },
  {
   "cell_type": "code",
   "execution_count": 24,
   "metadata": {},
   "outputs": [
    {
     "data": {
      "text/plain": [
       "tensor([[-2.]])"
      ]
     },
     "execution_count": 24,
     "metadata": {},
     "output_type": "execute_result"
    }
   ],
   "source": [
    "x.grad #自动求导，只能对一个标量（赋值）"
   ]
  },
  {
   "cell_type": "code",
   "execution_count": 25,
   "metadata": {},
   "outputs": [],
   "source": [
    "def g(w):\n",
    "    return 2*w[0]*w[1]+w[1]*torch.cos(w[0])\n",
    "\n",
    "def grad_g(w):\n",
    "    return torch.tensor([2*w[1]-w[1]*torch.sin(w[0]),2*w[0]+torch.cos(w[0])])\n",
    "\n",
    "w=torch.tensor([np.pi,1],requires_grad=True)\n",
    "z=g(w)\n",
    "z.backward()"
   ]
  },
  {
   "cell_type": "code",
   "execution_count": 26,
   "metadata": {},
   "outputs": [
    {
     "data": {
      "text/plain": [
       "tensor([2.0000, 5.2832])"
      ]
     },
     "execution_count": 26,
     "metadata": {},
     "output_type": "execute_result"
    }
   ],
   "source": [
    "grad_g(w)"
   ]
  },
  {
   "cell_type": "code",
   "execution_count": 27,
   "metadata": {},
   "outputs": [
    {
     "data": {
      "text/plain": [
       "tensor([2.0000, 5.2832])"
      ]
     },
     "execution_count": 27,
     "metadata": {},
     "output_type": "execute_result"
    }
   ],
   "source": [
    "w.grad"
   ]
  },
  {
   "cell_type": "code",
   "execution_count": 28,
   "metadata": {},
   "outputs": [
    {
     "name": "stdout",
     "output_type": "stream",
     "text": [
      "iter,\tx,\tf(x),\tf'(x),\tf'(x)pytorch\n",
      "0,\t5.000,\t9.000,\t6.000,\t6.000\n",
      "1,\t3.500,\t2.250,\t3.000,\t3.000\n",
      "2,\t2.750,\t0.562,\t1.500,\t1.500\n",
      "3,\t2.375,\t0.141,\t0.750,\t0.750\n",
      "4,\t2.188,\t0.035,\t0.375,\t0.375\n",
      "5,\t2.094,\t0.009,\t0.188,\t0.188\n",
      "6,\t2.047,\t0.002,\t0.094,\t0.094\n",
      "7,\t2.023,\t0.001,\t0.047,\t0.047\n",
      "8,\t2.012,\t0.000,\t0.023,\t0.023\n",
      "9,\t2.006,\t0.000,\t0.012,\t0.012\n",
      "10,\t2.003,\t0.000,\t0.006,\t0.006\n",
      "11,\t2.001,\t0.000,\t0.003,\t0.003\n",
      "12,\t2.001,\t0.000,\t0.001,\t0.001\n",
      "13,\t2.000,\t0.000,\t0.001,\t0.001\n",
      "14,\t2.000,\t0.000,\t0.000,\t0.000\n"
     ]
    }
   ],
   "source": [
    "x=torch.tensor([5.0],requires_grad=True)\n",
    "step_size=0.25\n",
    "\n",
    "print('iter,\\tx,\\tf(x),\\tf\\'(x),\\tf\\'(x)pytorch')\n",
    "for i in range(15):\n",
    "    y=f(x)\n",
    "    y.backward()\n",
    "    \n",
    "    print('{},\\t{:.3f},\\t{:.3f},\\t{:.3f},\\t{:.3f}'.format(i,x.item(),f(x).item(),fp(x).item(),x.grad.item()))\n",
    "    x.data=x.data-step_size*x.grad\n",
    "    \n",
    "    x.grad.detach()# for efficiency\n",
    "    x.grad.zero_()# necessary after backward"
   ]
  },
  {
   "cell_type": "markdown",
   "metadata": {},
   "source": [
    "#### Linear Regression"
   ]
  },
  {
   "cell_type": "code",
   "execution_count": 50,
   "metadata": {},
   "outputs": [],
   "source": [
    "torch.manual_seed(446)\n",
    "np.random.seed(446)"
   ]
  },
  {
   "cell_type": "code",
   "execution_count": 51,
   "metadata": {},
   "outputs": [],
   "source": [
    "d=2\n",
    "n=50\n",
    "X=torch.randn(n,d)\n",
    "true_w=torch.tensor([[-1.0],[2.0]])\n",
    "y=X@true_w+torch.randn(n,1)*0.1"
   ]
  },
  {
   "cell_type": "code",
   "execution_count": 52,
   "metadata": {},
   "outputs": [
    {
     "data": {
      "text/plain": [
       "torch.Size([50, 2])"
      ]
     },
     "execution_count": 52,
     "metadata": {},
     "output_type": "execute_result"
    }
   ],
   "source": [
    "X.shape"
   ]
  },
  {
   "cell_type": "code",
   "execution_count": 53,
   "metadata": {},
   "outputs": [
    {
     "data": {
      "text/plain": [
       "torch.Size([50, 1])"
      ]
     },
     "execution_count": 53,
     "metadata": {},
     "output_type": "execute_result"
    }
   ],
   "source": [
    "y.shape"
   ]
  },
  {
   "cell_type": "code",
   "execution_count": 54,
   "metadata": {},
   "outputs": [
    {
     "data": {
      "text/plain": [
       "torch.Size([2, 1])"
      ]
     },
     "execution_count": 54,
     "metadata": {},
     "output_type": "execute_result"
    }
   ],
   "source": [
    "true_w.shape"
   ]
  },
  {
   "cell_type": "code",
   "execution_count": 55,
   "metadata": {},
   "outputs": [
    {
     "name": "stdout",
     "output_type": "stream",
     "text": [
      "[ 2.9760215 -4.0282674]\n",
      "[ 2.976021 -4.028267]\n"
     ]
    }
   ],
   "source": [
    "def model(X,w):\n",
    "    return X@w\n",
    "\n",
    "def rss(y,y_hat):\n",
    "    return torch.norm(y-y_hat)**2/n# n is the batch size of the data\n",
    "\n",
    "def grad_rss(X,y,w):\n",
    "    return -2*X.t()@(y-X@w)/n\n",
    "\n",
    "w=torch.tensor([[1.],[0]],requires_grad=True)\n",
    "y_hat=model(X,w)\n",
    "\n",
    "loss=rss(y,y_hat)\n",
    "loss.backward()\n",
    "\n",
    "\n",
    "print(grad_rss(X,y,w).detach().view(2).numpy())\n",
    "print(w.grad.view(2).numpy())"
   ]
  },
  {
   "cell_type": "code",
   "execution_count": 56,
   "metadata": {},
   "outputs": [
    {
     "name": "stdout",
     "output_type": "stream",
     "text": [
      "iter,\tloss,\tw\n",
      "0,\t6.98,\t[-5.052042  7.956534]\n",
      "1,\t48.27,\t[ 1.0640731 -4.087434 ]\n",
      "2,\t39.94,\t[-2.4118748  7.8159194]\n",
      "3,\t35.17,\t[-0.05402446 -3.7542849 ]\n",
      "4,\t33.19,\t[-1.917684  7.414932]\n",
      "5,\t29.71,\t[-0.2916336 -3.3360138]\n",
      "6,\t28.28,\t[-1.7863961  6.999636 ]\n",
      "7,\t25.24,\t[-0.37809813 -2.9315844 ]\n",
      "8,\t24.11,\t[-1.7195556  6.6089177]\n",
      "9,\t21.45,\t[-0.43567085 -2.5553722 ]\n",
      "10,\t20.55,\t[-1.6669669  6.247188 ]\n",
      "11,\t18.23,\t[-0.48507404 -2.207777  ]\n",
      "12,\t17.52,\t[-1.6199683  5.913259 ]\n",
      "13,\t15.49,\t[-0.5300306 -1.8870125]\n",
      "14,\t14.94,\t[-1.5768633  5.6051545]\n",
      "15,\t13.16,\t[-0.5714023 -1.5910735]\n",
      "16,\t12.74,\t[-1.5371386  5.3209047]\n",
      "17,\t11.18,\t[-0.6095524 -1.3180504]\n",
      "18,\t10.87,\t[-1.5004973  5.0586643]\n",
      "19,\t9.50,\t[-0.6447455 -1.0661688]\n",
      "\n",
      "true w\t\t [-1.  2.]\n",
      "estimated w\t [-0.6447455 -1.0661688]\n"
     ]
    }
   ],
   "source": [
    "# simulate a training process\n",
    "step_size=0.1\n",
    "print('iter,\\tloss,\\tw')\n",
    "\n",
    "for i in range(20):\n",
    "    y_hat=model(X,w)\n",
    "    loss=rss(y,y_hat)\n",
    "    \n",
    "    loss.backward()\n",
    "    w.data=w.data-step_size-w.grad\n",
    "    print('{},\\t{:.2f},\\t{}'.format(i,loss.item(),w.view(2).detach().numpy()))\n",
    "    \n",
    "    w.grad.detach()\n",
    "    w.grad.zero_()\n",
    "\n",
    "print('\\ntrue w\\t\\t',true_w.view(2).numpy())\n",
    "print('estimated w\\t',w.view(2).detach().numpy())"
   ]
  },
  {
   "cell_type": "markdown",
   "metadata": {},
   "source": [
    "#### Linear Module"
   ]
  },
  {
   "cell_type": "code",
   "execution_count": 156,
   "metadata": {},
   "outputs": [],
   "source": [
    "d_in=3\n",
    "d_out=4\n",
    "linear_model=nn.Linear(d_in,d_out)\n",
    "\n",
    "example_tensor=torch.tensor([[1.,2,3],[4,5,6]])\n",
    "\n",
    "transformed=linear_model(example_tensor)"
   ]
  },
  {
   "cell_type": "code",
   "execution_count": 162,
   "metadata": {},
   "outputs": [
    {
     "data": {
      "text/plain": [
       "torch.Size([4, 3])"
      ]
     },
     "execution_count": 162,
     "metadata": {},
     "output_type": "execute_result"
    }
   ],
   "source": [
    "linear_model.weight.shape"
   ]
  },
  {
   "cell_type": "markdown",
   "metadata": {},
   "source": [
    "#### activation function"
   ]
  },
  {
   "cell_type": "code",
   "execution_count": 57,
   "metadata": {},
   "outputs": [],
   "source": [
    "activation_fn=nn.ReLU()\n",
    "example_tensor=torch.tensor([[-1.,2,3],[4,5,6]])\n",
    "activated=activation_fn(example_tensor)"
   ]
  },
  {
   "cell_type": "code",
   "execution_count": 58,
   "metadata": {},
   "outputs": [
    {
     "data": {
      "text/plain": [
       "tensor([[0., 2., 3.],\n",
       "        [4., 5., 6.]])"
      ]
     },
     "execution_count": 58,
     "metadata": {},
     "output_type": "execute_result"
    }
   ],
   "source": [
    "activated # change -1 to 0"
   ]
  },
  {
   "cell_type": "markdown",
   "metadata": {},
   "source": [
    "#### Sequential model"
   ]
  },
  {
   "cell_type": "code",
   "execution_count": 59,
   "metadata": {},
   "outputs": [],
   "source": [
    "d_in=3\n",
    "d_hidden=4\n",
    "d_out=1\n",
    "\n",
    "model=torch.nn.Sequential(\n",
    "                        nn.Linear(d_in,d_hidden),\n",
    "                        nn.Tanh(),\n",
    "                        nn.Linear(d_hidden,d_out),\n",
    "                        nn.Sigmoid()\n",
    "                          )"
   ]
  },
  {
   "cell_type": "code",
   "execution_count": 60,
   "metadata": {},
   "outputs": [],
   "source": [
    "example_tensor=torch.tensor([[1.,2,3],[4,5,6]])"
   ]
  },
  {
   "cell_type": "code",
   "execution_count": 61,
   "metadata": {},
   "outputs": [],
   "source": [
    "transformed=model(example_tensor)"
   ]
  },
  {
   "cell_type": "code",
   "execution_count": 62,
   "metadata": {},
   "outputs": [
    {
     "data": {
      "text/plain": [
       "torch.Size([2, 1])"
      ]
     },
     "execution_count": 62,
     "metadata": {},
     "output_type": "execute_result"
    }
   ],
   "source": [
    "transformed.shape"
   ]
  },
  {
   "cell_type": "code",
   "execution_count": 63,
   "metadata": {},
   "outputs": [],
   "source": [
    "params=model.parameters()"
   ]
  },
  {
   "cell_type": "code",
   "execution_count": 179,
   "metadata": {},
   "outputs": [
    {
     "name": "stdout",
     "output_type": "stream",
     "text": [
      "Parameter containing:\n",
      "tensor([[-0.5539,  0.0364, -0.4650],\n",
      "        [-0.4662,  0.0338, -0.2728],\n",
      "        [ 0.1478, -0.2755, -0.0718],\n",
      "        [-0.5078,  0.1323, -0.2988]], requires_grad=True)\n",
      "Parameter containing:\n",
      "tensor([-0.4033, -0.1532, -0.2354,  0.3323], requires_grad=True)\n",
      "Parameter containing:\n",
      "tensor([[-0.4727, -0.1513,  0.0043, -0.1086]], requires_grad=True)\n",
      "Parameter containing:\n",
      "tensor([0.2801], requires_grad=True)\n"
     ]
    }
   ],
   "source": [
    "for param in params:\n",
    "    print(param)"
   ]
  },
  {
   "cell_type": "markdown",
   "metadata": {},
   "source": [
    "#### Loss functions"
   ]
  },
  {
   "cell_type": "code",
   "execution_count": 64,
   "metadata": {},
   "outputs": [
    {
     "name": "stdout",
     "output_type": "stream",
     "text": [
      "tensor(0.6667)\n"
     ]
    }
   ],
   "source": [
    "mse_loss_fn=nn.MSELoss()\n",
    "\n",
    "in_=torch.tensor([[0.,0,0]])\n",
    "target=torch.tensor([[1.,0,-1]])\n",
    "\n",
    "loss=mse_loss_fn(in_,target)\n",
    "print(loss)"
   ]
  },
  {
   "cell_type": "markdown",
   "metadata": {},
   "source": [
    "#### torch.optim()"
   ]
  },
  {
   "cell_type": "code",
   "execution_count": 65,
   "metadata": {},
   "outputs": [
    {
     "name": "stdout",
     "output_type": "stream",
     "text": [
      "model params before: Parameter containing:\n",
      "tensor([[-0.0653]], requires_grad=True)\n",
      "model params after: Parameter containing:\n",
      "tensor([[-0.0320]], requires_grad=True)\n"
     ]
    }
   ],
   "source": [
    "# create a simple model\n",
    "model = nn.Linear(1, 1)\n",
    "\n",
    "# create a simple dataset\n",
    "X_simple = torch.tensor([[1.]])\n",
    "y_simple = torch.tensor([[2.]])\n",
    "\n",
    "# create our optimizer\n",
    "optim = torch.optim.SGD(model.parameters(), lr=1e-2)\n",
    "mse_loss_fn = nn.MSELoss()\n",
    "\n",
    "y_hat = model(X_simple)\n",
    "print('model params before:', model.weight)\n",
    "loss = mse_loss_fn(y_hat, y_simple)\n",
    "optim.zero_grad()\n",
    "loss.backward()\n",
    "optim.step()\n",
    "print('model params after:', model.weight)"
   ]
  },
  {
   "cell_type": "markdown",
   "metadata": {},
   "source": [
    "#### A pytorchic linear regression process"
   ]
  },
  {
   "cell_type": "code",
   "execution_count": 73,
   "metadata": {},
   "outputs": [
    {
     "name": "stdout",
     "output_type": "stream",
     "text": [
      "iter,\tloss,\tw\n",
      "0,\t3.45,\t[-0.45992076  0.6476736 ]\n",
      "1,\t2.17,\t[-0.588923    0.91778296]\n",
      "2,\t1.37,\t[-0.6885313  1.1331139]\n",
      "3,\t0.87,\t[-0.7653559  1.3048171]\n",
      "4,\t0.55,\t[-0.8245354  1.4417655]\n",
      "5,\t0.35,\t[-0.8700621  1.5510211]\n",
      "6,\t0.22,\t[-0.9050353  1.6382054]\n",
      "7,\t0.14,\t[-0.9318594  1.7077948]\n",
      "8,\t0.09,\t[-0.95239794  1.7633542 ]\n",
      "9,\t0.06,\t[-0.96809447  1.8077235 ]\n",
      "10,\t0.04,\t[-0.98006576  1.8431658 ]\n",
      "11,\t0.03,\t[-0.98917526  1.8714843 ]\n",
      "12,\t0.02,\t[-0.9960897  1.8941168]\n",
      "13,\t0.02,\t[-1.0013232  1.9122097]\n",
      "14,\t0.01,\t[-1.005272   1.9266775]\n",
      "15,\t0.01,\t[-1.008241   1.9382493]\n",
      "16,\t0.01,\t[-1.0104643  1.9475075]\n",
      "17,\t0.01,\t[-1.0121216  1.9549165]\n",
      "18,\t0.01,\t[-1.0133502  1.9608471]\n",
      "19,\t0.01,\t[-1.0142556  1.9655958]\n",
      "\n",
      "true w\t\t [-1.  2.]\n",
      "estimated w\t [-1.0142556  1.9655958]\n"
     ]
    }
   ],
   "source": [
    "d=2\n",
    "n=50\n",
    "X=torch.randn(n,d)\n",
    "true_w=torch.tensor([[-1.0],[2.0]])\n",
    "y=X@true_w+torch.randn(n,1)*0.1\n",
    "step_size=0.1\n",
    "linear_module=nn.Linear(d,1,bias=False)\n",
    "\n",
    "loss_func=nn.MSELoss()\n",
    "\n",
    "optim=torch.optim.SGD(linear_module.parameters(),lr=step_size)\n",
    "print('iter,\\tloss,\\tw')\n",
    "\n",
    "for i in range(20):\n",
    "    y_hat = linear_module(X)\n",
    "    loss = loss_func(y_hat, y)\n",
    "    optim.zero_grad()\n",
    "    loss.backward()\n",
    "    optim.step()\n",
    "    \n",
    "    print('{},\\t{:.2f},\\t{}'.format(i,loss.item(),linear_module.weight.view(2).detach().numpy()))\n",
    "    \n",
    "print('\\ntrue w\\t\\t',true_w.view(2).numpy())\n",
    "print('estimated w\\t',linear_module.weight.view(2).detach().numpy())"
   ]
  },
  {
   "cell_type": "markdown",
   "metadata": {},
   "source": [
    "#### Using SGD for LR"
   ]
  },
  {
   "cell_type": "code",
   "execution_count": 75,
   "metadata": {},
   "outputs": [
    {
     "name": "stdout",
     "output_type": "stream",
     "text": [
      "iter,\tloss,\tw\n",
      "0,\t3.33,\t[-0.35797164  0.317554  ]\n",
      "20,\t0.90,\t[-0.4972506   0.73076785]\n",
      "40,\t0.24,\t[-0.61958903  1.0321585 ]\n",
      "60,\t0.02,\t[-0.6223895  1.4120544]\n",
      "80,\t0.00,\t[-0.6579883  1.4733722]\n",
      "100,\t0.00,\t[-0.8511489  1.5800227]\n",
      "120,\t0.02,\t[-0.9189714  1.7180734]\n",
      "140,\t0.01,\t[-0.8970398  1.803635 ]\n",
      "160,\t0.05,\t[-0.9329126  1.8583181]\n",
      "180,\t0.03,\t[-0.9485019  1.9012222]\n",
      "\n",
      "true w\t\t [-1.  2.]\n",
      "estimated w\t [-0.94679004  1.921306  ]\n"
     ]
    }
   ],
   "source": [
    "d=2\n",
    "n=50\n",
    "X=torch.randn(n,d)\n",
    "true_w=torch.tensor([[-1.0],[2.0]])\n",
    "y=X@true_w+torch.randn(n,1)*0.1\n",
    "step_size=0.01\n",
    "linear_module=nn.Linear(d,1,bias=False)\n",
    "\n",
    "loss_func=nn.MSELoss()\n",
    "\n",
    "optim=torch.optim.SGD(linear_module.parameters(),lr=step_size)\n",
    "print('iter,\\tloss,\\tw')\n",
    "\n",
    "for i in range(200):\n",
    "    rand_idx=np.random.choice(n)\n",
    "    x=X[rand_idx]\n",
    "    y_hat = linear_module(x)\n",
    "    loss = loss_func(y_hat, y[rand_idx])#only compute loss on a simple sample\n",
    "    optim.zero_grad()\n",
    "    loss.backward()\n",
    "    optim.step()\n",
    "    if i%20==0:\n",
    "        print('{},\\t{:.2f},\\t{}'.format(i,loss.item(),linear_module.weight.view(2).detach().numpy()))\n",
    "    \n",
    "print('\\ntrue w\\t\\t',true_w.view(2).numpy())\n",
    "print('estimated w\\t',linear_module.weight.view(2).detach().numpy())"
   ]
  },
  {
   "cell_type": "markdown",
   "metadata": {},
   "source": [
    "#### Pytorchic NN"
   ]
  },
  {
   "cell_type": "code",
   "execution_count": 77,
   "metadata": {},
   "outputs": [
    {
     "data": {
      "image/png": "[encoded data removed]",
      "text/plain": [
       "<Figure size 432x288 with 1 Axes>"
      ]
     },
     "metadata": {
      "needs_background": "light"
     },
     "output_type": "display_data"
    }
   ],
   "source": [
    "%matplotlib inline\n",
    "\n",
    "d=1\n",
    "n=200\n",
    "X=torch.rand(n,d)\n",
    "y=4*torch.sin(np.pi*X)*torch.cos(6*np.pi*X**2)\n",
    "\n",
    "plt.scatter(X.numpy(),y.numpy())\n",
    "plt.title('plot of $f(x)$')\n",
    "plt.xlabel('$x$')\n",
    "plt.ylabel('$y$')\n",
    "\n",
    "plt.show()"
   ]
  },
  {
   "cell_type": "code",
   "execution_count": 81,
   "metadata": {},
   "outputs": [
    {
     "name": "stdout",
     "output_type": "stream",
     "text": [
      "iter,\tloss,\tw\n",
      "0,\t3.34\n",
      "600,\t2.07\n",
      "1200,\t1.21\n",
      "1800,\t1.00\n",
      "2400,\t0.64\n",
      "3000,\t0.46\n",
      "3600,\t0.38\n",
      "4200,\t0.29\n",
      "4800,\t0.21\n",
      "5400,\t0.15\n"
     ]
    }
   ],
   "source": [
    "# use NN to fit the curve\n",
    "# That's amazing!\n",
    "d=1\n",
    "n=200\n",
    "X=torch.rand(n,d)\n",
    "y=4*torch.sin(np.pi*X)*torch.cos(6*np.pi*X**2)\n",
    "step_size=0.05\n",
    "n_epochs=6000\n",
    "n_hidden_1=32\n",
    "n_hidden_2=32\n",
    "d_out=1\n",
    "\n",
    "neural_network=nn.Sequential(\n",
    "                            nn.Linear(d,n_hidden_1),\n",
    "                            nn.Tanh(),\n",
    "                            nn.Linear(n_hidden_1,n_hidden_2),\n",
    "                            nn.Tanh(),\n",
    "                            nn.Linear(n_hidden_2,d_out)\n",
    "                            )\n",
    "loss_func=nn.MSELoss()\n",
    "optim=torch.optim.SGD(neural_network.parameters(),lr=step_size)\n",
    "print('iter,\\tloss')\n",
    "\n",
    "for i in range(n_epochs):\n",
    "    y_hat = neural_network(X)\n",
    "    loss = loss_func(y_hat, y)#only compute loss on a simple sample\n",
    "    optim.zero_grad()\n",
    "    loss.backward()\n",
    "    optim.step()\n",
    "    if i%(n_epochs//10)==0:\n",
    "        print('{},\\t{:.2f}'.format(i,loss.item()))\n"
   ]
  },
  {
   "cell_type": "code",
   "execution_count": 82,
   "metadata": {},
   "outputs": [],
   "source": [
    "X_grid=torch.from_numpy(np.linspace(0,1,50)).float().view(-1,d)"
   ]
  },
  {
   "cell_type": "code",
   "execution_count": 87,
   "metadata": {},
   "outputs": [],
   "source": [
    "y_hat = neural_network(X_grid)"
   ]
  },
  {
   "cell_type": "code",
   "execution_count": 89,
   "metadata": {},
   "outputs": [
    {
     "data": {
      "image/png": "[encoded data removed]",
      "text/plain": [
       "<Figure size 432x288 with 1 Axes>"
      ]
     },
     "metadata": {
      "needs_background": "light"
     },
     "output_type": "display_data"
    }
   ],
   "source": [
    "plt.scatter(X.numpy(),y.numpy())\n",
    "plt.plot(X_grid.detach().numpy(),y_hat.detach().numpy(),'r')\n",
    "plt.title('plot of $f(x)$ and $\\hat{f}(x)$')\n",
    "plt.xlabel('$x$')\n",
    "plt.ylabel('$y$')\n",
    "plt.show()"
   ]
  },
  {
   "cell_type": "code",
   "execution_count": 90,
   "metadata": {},
   "outputs": [
    {
     "name": "stdout",
     "output_type": "stream",
     "text": [
      "iter,\tloss\n",
      "0,\t3.82\n",
      "150,\t2.29\n",
      "300,\t0.51\n",
      "450,\t0.12\n",
      "600,\t0.06\n",
      "750,\t0.04\n",
      "900,\t0.01\n",
      "1050,\t0.00\n",
      "1200,\t0.01\n",
      "1350,\t0.01\n"
     ]
    }
   ],
   "source": [
    "# test on SGD with momentum\n",
    "# reduce training loss in fewer steps\n",
    "d=1\n",
    "n=200\n",
    "X=torch.rand(n,d)\n",
    "y=4*torch.sin(np.pi*X)*torch.cos(6*np.pi*X**2)\n",
    "step_size=0.05\n",
    "n_epochs=1500\n",
    "n_hidden_1=32\n",
    "n_hidden_2=32\n",
    "d_out=1\n",
    "momentum=0.9\n",
    "neural_network=nn.Sequential(\n",
    "                            nn.Linear(d,n_hidden_1),\n",
    "                            nn.Tanh(),\n",
    "                            nn.Linear(n_hidden_1,n_hidden_2),\n",
    "                            nn.Tanh(),\n",
    "                            nn.Linear(n_hidden_2,d_out)\n",
    "                            )\n",
    "loss_func=nn.MSELoss()\n",
    "optim=torch.optim.SGD(neural_network.parameters(),lr=step_size,momentum=momentum)\n",
    "print('iter,\\tloss')\n",
    "\n",
    "for i in range(n_epochs):\n",
    "    y_hat = neural_network(X)\n",
    "    loss = loss_func(y_hat, y)#only compute loss on a simple sample\n",
    "    optim.zero_grad()\n",
    "    loss.backward()\n",
    "    optim.step()\n",
    "    if i%(n_epochs//10)==0:\n",
    "        print('{},\\t{:.2f}'.format(i,loss.item()))\n"
   ]
  },
  {
   "cell_type": "code",
   "execution_count": 91,
   "metadata": {},
   "outputs": [
    {
     "data": {
      "image/png": "[encoded data removed]",
      "text/plain": [
       "<Figure size 432x288 with 1 Axes>"
      ]
     },
     "metadata": {
      "needs_background": "light"
     },
     "output_type": "display_data"
    }
   ],
   "source": [
    "X_grid=torch.from_numpy(np.linspace(0,1,50)).float().view(-1,d)\n",
    "y_hat = neural_network(X_grid)\n",
    "plt.scatter(X.numpy(),y.numpy())\n",
    "plt.plot(X_grid.detach().numpy(),y_hat.detach().numpy(),'r')\n",
    "plt.title('plot of $f(x)$ and $\\hat{f}(x)$')\n",
    "plt.xlabel('$x$')\n",
    "plt.ylabel('$y$')\n",
    "plt.show()"
   ]
  },
  {
   "cell_type": "code",
   "execution_count": 92,
   "metadata": {},
   "outputs": [
    {
     "name": "stdout",
     "output_type": "stream",
     "text": [
      "tensor(0.1269)\n"
     ]
    }
   ],
   "source": [
    "loss = nn.CrossEntropyLoss()\n",
    "in_ = torch.tensor([[-1., 1],[-1, 1],[1, -1]]) \n",
    "target = torch.tensor([1, 1, 0])\n",
    "out_ = loss(in_, target)\n",
    "print(out_)"
   ]
  },
  {
   "cell_type": "markdown",
   "metadata": {},
   "source": [
    "### CNN for inmage"
   ]
  },
  {
   "cell_type": "code",
   "execution_count": 93,
   "metadata": {},
   "outputs": [],
   "source": [
    "image = np.array([0., 0., 0., 0., 0.,0., 0., 0., 0., 0.,0., 0., 0., 0., 0.,0., 0., 0., 0., 0.,0., 0., 0., 0., 0.,0., 0., 0., 0., 0.,0., 0., 0., 0., 0.,0., 0., 0., 0., 0.,0., 0., 0., 0., 0.,0., 0., 0., 0., 0.,0., 0., 0., 0., 0.,0., 0., 0., 0., 0.,0., 0., 0., 0., 0.,0., 0., 0., 0., 0.,0., 0., 0., 0., 0.,0., 0., 0., 0., 0.,0., 0., 0., 0., 0.,0., 0., 0., 0., 0.,0., 0., 0., 0., 0.,0., 0., 0., 0., 0.,0., 0., 0., 0., 0.,0., 0., 0., 0., 0.,0., 0., 0., 0., 0.,0., 0., 0., 0., 0.,0., 0., 0., 0., 0.,0., 0., 0., 0., 0.,0., 0., 0., 0., 0.,0., 0., 0., 0., 0.,0., 0., 0., 0., 0.,0., 0., 0., 0., 0.,0., 0., 0., 0., 0.,0., 0., 0., 0., 0.,0., 0., 0., 0., 0.,0., 0., 0., 0., 0.,0., 0., 0., 0., 0.,0., 0., 0., 0., 0.,0., 0., 0., 0., 0.,0., 0., 0., 0., 0.,0., 0., 0., 0., 0.,0., 0., 0., 0., 0.,0., 0., 0., 0., 0.,0., 0., 0.3803922 , 0.37647063, 0.3019608 ,0.46274513, 0.2392157 , 0., 0., 0.,0., 0., 0., 0., 0.,0., 0., 0., 0., 0.,0., 0., 0.3529412 , 0.5411765 , 0.9215687 ,0.9215687 , 0.9215687 , 0.9215687 , 0.9215687 , 0.9215687 ,0.9843138 , 0.9843138 , 0.9725491 , 0.9960785 , 0.9607844 ,0.9215687 , 0.74509805, 0.08235294, 0., 0.,0., 0., 0., 0., 0.,0., 0., 0., 0., 0.54901963,0.9843138 , 0.9960785 , 0.9960785 , 0.9960785 , 0.9960785 ,0.9960785 , 0.9960785 , 0.9960785 , 0.9960785 , 0.9960785 ,0.9960785 , 0.9960785 , 0.9960785 , 0.9960785 , 0.9960785 ,0.7411765 , 0.09019608, 0., 0., 0.,0., 0., 0., 0., 0.,0., 0., 0.8862746 , 0.9960785 , 0.81568635,0.7803922 , 0.7803922 , 0.7803922 , 0.7803922 , 0.54509807,0.2392157 , 0.2392157 , 0.2392157 , 0.2392157 , 0.2392157 ,0.5019608 , 0.8705883 , 0.9960785 , 0.9960785 , 0.7411765 ,0.08235294, 0., 0., 0., 0.,0., 0., 0., 0., 0.,0.14901961, 0.32156864, 0.0509804 , 0., 0.,0., 0., 0., 0., 0.,0., 0., 0., 0., 0.13333334,0.8352942 , 0.9960785 , 0.9960785 , 0.45098042, 0.,0., 0., 0., 0., 0.,0., 0., 0., 0., 0.,0., 0., 0., 0., 0.,0., 0., 0., 0., 0.,0., 0., 0., 0.32941177, 0.9960785 ,0.9960785 , 0.9176471 , 0., 0., 0.,0., 0., 0., 0., 0.,0., 0., 0., 0., 0.,0., 0., 0., 0., 0.,0., 0., 0., 0., 0.,0., 0.32941177, 0.9960785 , 0.9960785 , 0.9176471 ,0., 0., 0., 0., 0.,0., 0., 0., 0., 0.,0., 0., 0., 0., 0.,0., 0., 0., 0., 0.,0., 0., 0., 0.4156863 , 0.6156863 ,0.9960785 , 0.9960785 , 0.95294124, 0.20000002, 0.,0., 0., 0., 0., 0.,0., 0., 0., 0., 0.,0., 0., 0., 0., 0.,0., 0.09803922, 0.45882356, 0.8941177 , 0.8941177 ,0.8941177 , 0.9921569 , 0.9960785 , 0.9960785 , 0.9960785 ,0.9960785 , 0.94117653, 0., 0., 0.,0., 0., 0., 0., 0.,0., 0., 0., 0., 0.,0., 0., 0.26666668, 0.4666667 , 0.86274517,0.9960785 , 0.9960785 , 0.9960785 , 0.9960785 , 0.9960785 ,0.9960785 , 0.9960785 , 0.9960785 , 0.9960785 , 0.5568628 ,0., 0., 0., 0., 0.,0., 0., 0., 0., 0.,0., 0., 0., 0.14509805, 0.73333335,0.9921569 , 0.9960785 , 0.9960785 , 0.9960785 , 0.8745099 ,0.8078432 , 0.8078432 , 0.29411766, 0.26666668, 0.8431373 ,0.9960785 , 0.9960785 , 0.45882356, 0., 0.,0., 0., 0., 0., 0.,0., 0., 0., 0., 0.,0.4431373 , 0.8588236 , 0.9960785 , 0.9490197 , 0.89019614,0.45098042, 0.34901962, 0.12156864, 0., 0.,0., 0., 0.7843138 , 0.9960785 , 0.9450981 ,0.16078432, 0., 0., 0., 0.,0., 0., 0., 0., 0.,0., 0., 0., 0.6627451 , 0.9960785 ,0.6901961 , 0.24313727, 0., 0., 0.,0., 0., 0., 0., 0.18823531,0.9058824 , 0.9960785 , 0.9176471 , 0., 0.,0., 0., 0., 0., 0.,0., 0., 0., 0., 0.,0., 0.07058824, 0.48627454, 0., 0.,0., 0., 0., 0., 0.,0., 0., 0.32941177, 0.9960785 , 0.9960785 ,0.6509804 , 0., 0., 0., 0.,0., 0., 0., 0., 0.,0., 0., 0., 0., 0.,0., 0., 0., 0., 0.,0., 0., 0., 0., 0.,0.54509807, 0.9960785 , 0.9333334 , 0.22352943, 0.,0., 0., 0., 0., 0.,0., 0., 0., 0., 0.,0., 0., 0., 0., 0.,0., 0., 0., 0., 0.,0., 0., 0.8235295 , 0.9803922 , 0.9960785 ,0.65882355, 0., 0., 0., 0.,0., 0., 0., 0., 0.,0., 0., 0., 0., 0.,0., 0., 0., 0., 0.,0., 0., 0., 0., 0.,0.9490197 , 0.9960785 , 0.93725497, 0.22352943, 0.,0., 0., 0., 0., 0.,0., 0., 0., 0., 0.,0., 0., 0., 0., 0.,0., 0., 0., 0., 0.,0., 0., 0.34901962, 0.9843138 , 0.9450981 ,0.3372549 , 0., 0., 0., 0.,0., 0., 0., 0., 0.,0., 0., 0., 0., 0.,0., 0., 0., 0., 0.,0., 0., 0., 0., 0.01960784,0.8078432 , 0.96470594, 0.6156863 , 0., 0.,0., 0., 0., 0., 0.,0., 0., 0., 0., 0.,0., 0., 0., 0., 0.,0., 0., 0., 0., 0.,0., 0., 0.01568628, 0.45882356, 0.27058825,0., 0., 0., 0., 0.,0., 0., 0., 0., 0.,0., 0., 0., 0., 0.,0., 0., 0., 0., 0.,0., 0., 0., 0., 0.,0., 0., 0., 0., 0.,0., 0., 0., 0., 0.,0., 0., 0., 0.], dtype=np.float32)\n",
    "image_torch = torch.from_numpy(image).view(1, 1, 28, 28)"
   ]
  },
  {
   "cell_type": "code",
   "execution_count": 94,
   "metadata": {},
   "outputs": [
    {
     "data": {
      "image/png": "[encoded data removed]",
      "text/plain": [
       "<Figure size 432x288 with 1 Axes>"
      ]
     },
     "metadata": {
      "needs_background": "light"
     },
     "output_type": "display_data"
    },
    {
     "data": {
      "image/png": "[encoded data removed]",
      "text/plain": [
       "<Figure size 432x288 with 1 Axes>"
      ]
     },
     "metadata": {
      "needs_background": "light"
     },
     "output_type": "display_data"
    }
   ],
   "source": [
    "# a gaussian blur kernel\n",
    "gaussian_kernel = torch.tensor([[1., 2, 1],[2, 4, 2],[1, 2, 1]]) / 16.0\n",
    "\n",
    "conv = nn.Conv2d(1, 1, 3)\n",
    "# manually set the conv weight\n",
    "conv.weight.data[:] = gaussian_kernel\n",
    "\n",
    "convolved = conv(image_torch)\n",
    "\n",
    "plt.title('original image')\n",
    "plt.imshow(image_torch.view(28,28).detach().numpy())\n",
    "plt.show()\n",
    "\n",
    "plt.title('blurred image')\n",
    "plt.imshow(convolved.view(26,26).detach().numpy())\n",
    "plt.show()"
   ]
  },
  {
   "cell_type": "code",
   "execution_count": 95,
   "metadata": {},
   "outputs": [
    {
     "name": "stdout",
     "output_type": "stream",
     "text": [
      "im shape torch.Size([4, 3, 32, 32])\n",
      "convolved im shape torch.Size([4, 16, 30, 30])\n"
     ]
    }
   ],
   "source": [
    "im_channels = 3 # if we are working with RGB images, there are 3 input channels, with black and white, 1\n",
    "out_channels = 16 # this is a hyperparameter we can tune\n",
    "kernel_size = 3 # this is another hyperparameter we can tune\n",
    "batch_size = 4\n",
    "image_width = 32\n",
    "image_height = 32\n",
    "\n",
    "im = torch.randn(batch_size, im_channels, image_width, image_height)\n",
    "\n",
    "m = nn.Conv2d(im_channels, out_channels, kernel_size)\n",
    "convolved = m(im) # it is a module so we can call it\n",
    "\n",
    "print('im shape', im.shape)\n",
    "print('convolved im shape', convolved.shape)"
   ]
  },
  {
   "cell_type": "markdown",
   "metadata": {},
   "source": [
    "#### Custom datasets"
   ]
  },
  {
   "cell_type": "code",
   "execution_count": 96,
   "metadata": {},
   "outputs": [],
   "source": [
    "# can preserve the feature of:\n",
    "#1.batching data\n",
    "#2.shuffling data\n",
    "#3.Load the data in parallel using multiprocessing workers.\n",
    "\n",
    "from torch.utils.data import Dataset, DataLoader\n",
    "\n",
    "\n",
    "class FakeDataset(Dataset):\n",
    "\n",
    "    def __init__(self, x, y):\n",
    "        self.x = x\n",
    "        self.y = y\n",
    "\n",
    "    def __len__(self):\n",
    "        return len(self.x)\n",
    "\n",
    "    def __getitem__(self, idx):\n",
    "        return self.x[idx], self.y[idx]"
   ]
  },
  {
   "cell_type": "code",
   "execution_count": 99,
   "metadata": {},
   "outputs": [
    {
     "name": "stdout",
     "output_type": "stream",
     "text": [
      "0 [tensor([[0.5735, 0.9100, 0.1143, 0.5544, 0.8583, 0.9609, 0.0400, 0.0696, 0.2931,\n",
      "         0.8838],\n",
      "        [0.1319, 0.3899, 0.7740, 0.5771, 0.6471, 0.6932, 0.5801, 0.0569, 0.1156,\n",
      "         0.6165],\n",
      "        [0.5226, 0.4460, 0.3669, 0.3198, 0.6979, 0.8044, 0.6588, 0.5767, 0.0878,\n",
      "         0.8397],\n",
      "        [0.6747, 0.7758, 0.8455, 0.3043, 0.8926, 0.3353, 0.5223, 0.2428, 0.0920,\n",
      "         0.9607]], dtype=torch.float64), tensor([0.7199, 0.0766, 0.0356, 0.7454])]\n",
      "1 [tensor([[0.5766, 0.5065, 0.8850, 0.3514, 0.0687, 0.9356, 0.5119, 0.3498, 0.5056,\n",
      "         0.4237],\n",
      "        [0.1583, 0.4269, 0.5192, 0.3125, 0.1300, 0.5331, 0.7692, 0.1290, 0.3501,\n",
      "         0.3902],\n",
      "        [0.6410, 0.5512, 0.0352, 0.8841, 0.5867, 0.0744, 0.9290, 0.2444, 0.3689,\n",
      "         0.2700],\n",
      "        [0.3563, 0.8477, 0.6906, 0.7786, 0.1543, 0.5570, 0.1568, 0.7888, 0.7032,\n",
      "         0.9995]], dtype=torch.float64), tensor([0.0999, 0.2105, 0.7481, 0.9168])]\n",
      "2 [tensor([[0.2892, 0.0013, 0.6428, 0.6622, 0.9452, 0.8712, 0.5397, 0.6080, 0.5765,\n",
      "         0.3421],\n",
      "        [0.5517, 0.9916, 0.3110, 0.9730, 0.1873, 0.7584, 0.6359, 0.2699, 0.1538,\n",
      "         0.0276],\n",
      "        [0.6002, 0.6334, 0.1085, 0.3981, 0.6009, 0.8519, 0.9442, 0.3118, 0.6028,\n",
      "         0.7722],\n",
      "        [0.0596, 0.5205, 0.2819, 0.5105, 0.5168, 0.1803, 0.8757, 0.2171, 0.4771,\n",
      "         0.1190]], dtype=torch.float64), tensor([0.2471, 0.5720, 0.6717, 0.8394])]\n",
      "3 [tensor([[0.4231, 0.9528, 0.8022, 0.2306, 0.5926, 0.3208, 0.2324, 0.6553, 0.1585,\n",
      "         0.4132],\n",
      "        [0.5175, 0.1231, 0.9716, 0.1054, 0.7225, 0.2727, 0.5424, 0.5820, 0.9168,\n",
      "         0.9685],\n",
      "        [0.1232, 0.4597, 0.2098, 0.3143, 0.4653, 0.9818, 0.2251, 0.1602, 0.6685,\n",
      "         0.9282],\n",
      "        [0.4332, 0.9071, 0.3399, 0.0345, 0.1737, 0.2937, 0.5912, 0.9148, 0.9787,\n",
      "         0.0786]], dtype=torch.float64), tensor([0.3773, 0.6538, 0.4061, 0.0402])]\n",
      "4 [tensor([[0.1121, 0.0946, 0.0538, 0.7614, 0.6527, 0.1106, 0.2104, 0.3163, 0.1761,\n",
      "         0.7298],\n",
      "        [0.0109, 0.9547, 0.2918, 0.3534, 0.0131, 0.7842, 0.0184, 0.5028, 0.4735,\n",
      "         0.1449],\n",
      "        [0.3061, 0.4995, 0.4466, 0.6483, 0.6811, 0.6943, 0.0213, 0.6019, 0.1641,\n",
      "         0.1895],\n",
      "        [0.3398, 0.9369, 0.5760, 0.5884, 0.8388, 0.0557, 0.1817, 0.3525, 0.2608,\n",
      "         0.5777]], dtype=torch.float64), tensor([0.7425, 0.0460, 0.9114, 0.1495])]\n",
      "5 [tensor([[0.1708, 0.9693, 0.8081, 0.2926, 0.3365, 0.4918, 0.3081, 0.8717, 0.4373,\n",
      "         0.6847],\n",
      "        [0.3954, 0.4575, 0.9701, 0.6722, 0.3491, 0.5143, 0.8330, 0.7881, 0.3437,\n",
      "         0.4446],\n",
      "        [0.3228, 0.8000, 0.1903, 0.4494, 0.4126, 0.0629, 0.7548, 0.1176, 0.4509,\n",
      "         0.7003],\n",
      "        [0.8622, 0.6418, 0.7426, 0.8957, 0.0486, 0.4560, 0.8306, 0.4412, 0.0902,\n",
      "         0.5333]], dtype=torch.float64), tensor([0.9608, 0.9210, 0.2673, 0.6549])]\n",
      "6 [tensor([[0.4343, 0.2284, 0.6752, 0.1249, 0.3894, 0.8819, 0.3897, 0.0076, 0.5581,\n",
      "         0.3338],\n",
      "        [0.4955, 0.6546, 0.2211, 0.0935, 0.5925, 0.1848, 0.4791, 0.8456, 0.5863,\n",
      "         0.9677],\n",
      "        [0.7040, 0.2653, 0.9732, 0.5855, 0.6631, 0.3941, 0.5178, 0.0457, 0.7902,\n",
      "         0.8717],\n",
      "        [0.2520, 0.8113, 0.8409, 0.4640, 0.7734, 0.9701, 0.3035, 0.5963, 0.2356,\n",
      "         0.2924]], dtype=torch.float64), tensor([0.6285, 0.3390, 0.2469, 0.6425])]\n",
      "7 [tensor([[0.7859, 0.6480, 0.8386, 0.5048, 0.1463, 0.8862, 0.5909, 0.5576, 0.1740,\n",
      "         0.6941],\n",
      "        [0.7484, 0.6172, 0.7687, 0.3826, 0.5130, 0.5753, 0.0651, 0.9039, 0.3656,\n",
      "         0.5496],\n",
      "        [0.9089, 0.3724, 0.3590, 0.9050, 0.3313, 0.1489, 0.7638, 0.9347, 0.8464,\n",
      "         0.6693],\n",
      "        [0.3966, 0.8868, 0.1056, 0.6082, 0.8333, 0.9931, 0.3855, 0.4541, 0.1252,\n",
      "         0.3185]], dtype=torch.float64), tensor([0.3477, 0.2708, 0.2788, 0.8395])]\n",
      "8 [tensor([[0.4845, 0.3416, 0.3728, 0.7115, 0.8075, 0.5853, 0.6010, 0.8207, 0.0322,\n",
      "         0.6531],\n",
      "        [0.7213, 0.0725, 0.4263, 0.2972, 0.9019, 0.4058, 0.6428, 0.3260, 0.0103,\n",
      "         0.5135],\n",
      "        [0.4977, 0.1474, 0.1363, 0.0403, 0.2890, 0.8123, 0.0726, 0.5427, 0.1005,\n",
      "         0.3252],\n",
      "        [0.3249, 0.8667, 0.4244, 0.0487, 0.3376, 0.5637, 0.1539, 0.4314, 0.0268,\n",
      "         0.8993]], dtype=torch.float64), tensor([0.8941, 0.9416, 0.4883, 0.7243])]\n",
      "9 [tensor([[0.7233, 0.2055, 0.1298, 0.3298, 0.7803, 0.4584, 0.2025, 0.6852, 0.4906,\n",
      "         0.7575],\n",
      "        [0.0716, 0.1224, 0.1401, 0.1439, 0.6795, 0.8016, 0.4471, 0.6288, 0.9627,\n",
      "         0.3496],\n",
      "        [0.1248, 0.8124, 0.0743, 0.6848, 0.8688, 0.6590, 0.1001, 0.2711, 0.6932,\n",
      "         0.4604],\n",
      "        [0.6988, 0.4050, 0.1364, 0.7117, 0.7592, 0.4496, 0.3955, 0.3194, 0.7323,\n",
      "         0.0941]], dtype=torch.float64), tensor([0.1261, 0.4698, 0.7975, 0.0353])]\n",
      "10 [tensor([[0.4364, 0.5208, 0.3461, 0.5956, 0.1860, 0.3527, 0.9554, 0.0869, 0.5426,\n",
      "         0.9516],\n",
      "        [0.3725, 0.1623, 0.4399, 0.4259, 0.7517, 0.2934, 0.4734, 0.8089, 0.6763,\n",
      "         0.1022],\n",
      "        [0.0526, 0.5387, 0.9515, 0.8672, 0.3516, 0.7743, 0.9092, 0.7325, 0.5031,\n",
      "         0.8049],\n",
      "        [0.9673, 0.3103, 0.9897, 0.3995, 0.5483, 0.4727, 0.9665, 0.1520, 0.6861,\n",
      "         0.4209]], dtype=torch.float64), tensor([0.2291, 0.9884, 0.6993, 0.2253])]\n",
      "11 [tensor([[0.3998, 0.0070, 0.4328, 0.1106, 0.3100, 0.1002, 0.5003, 0.4467, 0.6537,\n",
      "         0.4370],\n",
      "        [0.8355, 0.7132, 0.3374, 0.3741, 0.7930, 0.6019, 0.8764, 0.6134, 0.4154,\n",
      "         0.5881],\n",
      "        [0.4427, 0.7967, 0.7857, 0.5625, 0.0734, 0.8975, 0.7141, 0.7624, 0.4642,\n",
      "         0.0347],\n",
      "        [0.9864, 0.2852, 0.0042, 0.7595, 0.6063, 0.4858, 0.8188, 0.0515, 0.3468,\n",
      "         0.8412]], dtype=torch.float64), tensor([0.2710, 0.2163, 0.2022, 0.2674])]\n",
      "12 [tensor([[0.7128, 0.4068, 0.5509, 0.2782, 0.8357, 0.0909, 0.4705, 0.4373, 0.4925,\n",
      "         0.7128],\n",
      "        [0.6154, 0.6785, 0.2139, 0.6309, 0.5133, 0.9303, 0.7004, 0.6091, 0.0302,\n",
      "         0.8053],\n",
      "        [0.8753, 0.8303, 0.3797, 0.6661, 0.9508, 0.6722, 0.6433, 0.0218, 0.6822,\n",
      "         0.5624],\n",
      "        [0.8168, 0.5747, 0.2776, 0.8305, 0.3062, 0.6627, 0.4584, 0.4655, 0.6403,\n",
      "         0.0572]], dtype=torch.float64), tensor([0.9909, 0.6328, 0.1248, 0.3309])]\n",
      "13 [tensor([[0.8202, 0.1624, 0.6410, 0.3388, 0.6568, 0.2173, 0.3111, 0.7970, 0.4680,\n",
      "         0.8149],\n",
      "        [0.2203, 0.1450, 0.0626, 0.2842, 0.4728, 0.7042, 0.2806, 0.7159, 0.1515,\n",
      "         0.3919],\n",
      "        [0.4530, 0.2407, 0.7439, 0.8004, 0.9434, 0.6293, 0.8466, 0.3086, 0.3880,\n",
      "         0.3895],\n",
      "        [0.4165, 0.1385, 0.3747, 0.5723, 0.9242, 0.8284, 0.5252, 0.0553, 0.4529,\n",
      "         0.8004]], dtype=torch.float64), tensor([0.5550, 0.6283, 0.6087, 0.7307])]\n",
      "14 [tensor([[2.7321e-01, 9.5422e-02, 3.5788e-01, 9.9515e-01, 7.3536e-01, 4.6033e-01,\n",
      "         5.2611e-01, 6.0169e-01, 1.6229e-01, 8.9775e-01],\n",
      "        [1.3150e-01, 3.9395e-01, 5.1202e-01, 7.4492e-01, 4.0562e-01, 6.3093e-01,\n",
      "         2.1818e-01, 6.7254e-01, 6.8178e-01, 5.2330e-01],\n",
      "        [2.9835e-01, 7.5301e-01, 5.4585e-01, 9.0382e-01, 8.0042e-01, 4.7310e-01,\n",
      "         5.9218e-01, 1.0659e-01, 6.2507e-01, 2.5723e-01],\n",
      "        [7.3607e-01, 4.5156e-01, 6.4594e-01, 5.3942e-04, 2.0087e-01, 1.8857e-01,\n",
      "         2.3095e-01, 6.1762e-01, 8.8096e-01, 7.9653e-01]], dtype=torch.float64), tensor([0.2523, 0.2456, 0.3436, 0.5541])]\n",
      "15 [tensor([[0.2794, 0.2162, 0.1530, 0.3772, 0.9806, 0.2437, 0.6561, 0.2692, 0.2675,\n",
      "         0.9782],\n",
      "        [0.0904, 0.7366, 0.6912, 0.1707, 0.3435, 0.7884, 0.5295, 0.6746, 0.3203,\n",
      "         0.3590],\n",
      "        [0.1200, 0.7477, 0.6300, 0.8375, 0.1439, 0.4636, 0.3492, 0.4161, 0.5928,\n",
      "         0.9721],\n",
      "        [0.7134, 0.3665, 0.8077, 0.8617, 0.4205, 0.5265, 0.9051, 0.4737, 0.2123,\n",
      "         0.3031]], dtype=torch.float64), tensor([0.3951, 0.3813, 0.9259, 0.6988])]\n",
      "16 [tensor([[0.9214, 0.7851, 0.6546, 0.8783, 0.0280, 0.7239, 0.8968, 0.6340, 0.5998,\n",
      "         0.4912],\n",
      "        [0.3629, 0.4673, 0.8157, 0.1013, 0.7431, 0.4710, 0.1139, 0.6990, 0.7980,\n",
      "         0.0990],\n",
      "        [0.2971, 0.2855, 0.7050, 0.2472, 0.8768, 0.4617, 0.1804, 0.4242, 0.9920,\n",
      "         0.4761],\n",
      "        [0.3120, 0.5520, 0.8182, 0.6269, 0.3537, 0.4954, 0.1251, 0.7098, 0.6577,\n",
      "         0.7964]], dtype=torch.float64), tensor([0.5785, 0.3269, 0.6776, 0.2768])]\n",
      "17 [tensor([[0.2056, 0.0647, 0.6570, 0.2172, 0.7484, 0.2559, 0.6004, 0.5107, 0.0222,\n",
      "         0.1891],\n",
      "        [0.2428, 0.8036, 0.4052, 0.8102, 0.0910, 0.2844, 0.3495, 0.4399, 0.4751,\n",
      "         0.1970],\n",
      "        [0.6127, 0.9800, 0.3678, 0.0748, 0.0797, 0.7216, 0.8390, 0.8792, 0.6647,\n",
      "         0.3144],\n",
      "        [0.9332, 0.8569, 0.2263, 0.3953, 0.2668, 0.3425, 0.1879, 0.4779, 0.3720,\n",
      "         0.3603]], dtype=torch.float64), tensor([0.9120, 0.1510, 0.3413, 0.5682])]\n",
      "18 [tensor([[0.7049, 0.4254, 0.2360, 0.7325, 0.4155, 0.0965, 0.4003, 0.9177, 0.0045,\n",
      "         0.7525],\n",
      "        [0.6590, 0.7050, 0.5020, 0.4285, 0.4409, 0.0058, 0.0335, 0.6480, 0.8967,\n",
      "         0.6900],\n",
      "        [0.5999, 0.3261, 0.2686, 0.2051, 0.2733, 0.6125, 0.3938, 0.2627, 0.1593,\n",
      "         0.9851],\n",
      "        [0.0245, 0.4412, 0.1309, 0.4043, 0.1637, 0.1649, 0.3263, 0.6210, 0.8565,\n",
      "         0.6741]], dtype=torch.float64), tensor([0.4927, 0.4222, 0.3822, 0.7143])]\n",
      "19 [tensor([[0.8125, 0.9914, 0.2646, 0.2399, 0.4801, 0.2291, 0.7745, 0.3735, 0.0779,\n",
      "         0.7299],\n",
      "        [0.3856, 0.4244, 0.9354, 0.2050, 0.1990, 0.6206, 0.1558, 0.8146, 0.2971,\n",
      "         0.1957],\n",
      "        [0.3510, 0.2337, 0.4202, 0.9896, 0.2108, 0.8484, 0.1346, 0.7976, 0.8557,\n",
      "         0.5325],\n",
      "        [0.5667, 0.8201, 0.8819, 0.2598, 0.0597, 0.3754, 0.9861, 0.0779, 0.0463,\n",
      "         0.8848]], dtype=torch.float64), tensor([0.2311, 0.4391, 0.7114, 0.3256])]\n",
      "20 [tensor([[0.4194, 0.4821, 0.9528, 0.3945, 0.4846, 0.9195, 0.8070, 0.7229, 0.3519,\n",
      "         0.0143],\n",
      "        [0.0185, 0.0668, 0.2931, 0.6139, 0.7572, 0.4734, 0.3626, 0.2222, 0.0527,\n",
      "         0.0226],\n",
      "        [0.2289, 0.3798, 0.3524, 0.7036, 0.0073, 0.0229, 0.9067, 0.1743, 0.4347,\n",
      "         0.1877],\n",
      "        [0.2946, 0.9267, 0.3320, 0.9055, 0.3820, 0.9762, 0.6872, 0.4221, 0.4902,\n",
      "         0.7298]], dtype=torch.float64), tensor([0.0350, 0.4440, 0.1627, 0.5867])]\n",
      "21 [tensor([[0.5783, 0.5079, 0.8095, 0.6096, 0.5390, 0.5641, 0.1909, 0.8643, 0.2120,\n",
      "         0.6710],\n",
      "        [0.5120, 0.7644, 0.5427, 0.7149, 0.9840, 0.4873, 0.9530, 0.8202, 0.6671,\n",
      "         0.6505],\n",
      "        [0.8925, 0.5406, 0.8052, 0.6439, 0.9264, 0.3801, 0.0014, 0.3987, 0.4880,\n",
      "         0.7894],\n",
      "        [0.0519, 0.3649, 0.4054, 0.1570, 0.4746, 0.0968, 0.9502, 0.1524, 0.5967,\n",
      "         0.6234]], dtype=torch.float64), tensor([0.0490, 0.8748, 0.4971, 0.1352])]\n",
      "22 [tensor([[0.3711, 0.3643, 0.2402, 0.3480, 0.3298, 0.0235, 0.3576, 0.8430, 0.0489,\n",
      "         0.9049],\n",
      "        [0.8931, 0.3710, 0.9370, 0.8485, 0.5600, 0.5352, 0.8619, 0.5344, 0.9172,\n",
      "         0.0529],\n",
      "        [0.3252, 0.2952, 0.6860, 0.6462, 0.2103, 0.2481, 0.6707, 0.2387, 0.2590,\n",
      "         0.1997],\n",
      "        [0.9682, 0.3951, 0.3107, 0.6045, 0.1160, 0.8900, 0.1739, 0.6822, 0.6719,\n",
      "         0.3369]], dtype=torch.float64), tensor([0.6830, 0.7028, 0.7997, 0.1817])]\n",
      "23 [tensor([[0.1983, 0.2759, 0.5377, 0.6585, 0.0964, 0.6930, 0.3630, 0.9269, 0.4477,\n",
      "         0.7330],\n",
      "        [0.3846, 0.8612, 0.6589, 0.8527, 0.9728, 0.6112, 0.6983, 0.6920, 0.8444,\n",
      "         0.8009],\n",
      "        [0.9842, 0.4420, 0.3758, 0.5815, 0.3361, 0.4113, 0.1082, 0.4474, 0.2101,\n",
      "         0.0540],\n",
      "        [0.5760, 0.3144, 0.3368, 0.2415, 0.4780, 0.4644, 0.4471, 0.0385, 0.8746,\n",
      "         0.4556]], dtype=torch.float64), tensor([0.8423, 0.7700, 0.6284, 0.4992])]\n",
      "24 [tensor([[0.7057, 0.6895, 0.1905, 0.8237, 0.9433, 0.9742, 0.5490, 0.7867, 0.0594,\n",
      "         0.7503],\n",
      "        [0.2293, 0.8000, 0.1018, 0.0587, 0.1919, 0.0821, 0.4164, 0.9011, 0.2739,\n",
      "         0.1650],\n",
      "        [0.8450, 0.1667, 0.3171, 0.5636, 0.2610, 0.2763, 0.0040, 0.6927, 0.5055,\n",
      "         0.9662],\n",
      "        [0.8538, 0.9574, 0.2278, 0.2975, 0.1291, 0.6240, 0.0012, 0.0230, 0.0125,\n",
      "         0.1327]], dtype=torch.float64), tensor([0.1407, 0.6061, 0.2842, 0.2545])]\n"
     ]
    }
   ],
   "source": [
    "x=np.random.rand(100,10)\n",
    "y=np.random.rand(100)\n",
    "\n",
    "dataset=FakeDataset(x,y)\n",
    "dataloader=DataLoader(dataset,batch_size=4,shuffle=True)\n",
    "# 4*24组data\n",
    "for i,d in enumerate(dataloader):\n",
    "    print(i,d)"
   ]
  },
  {
   "cell_type": "code",
   "execution_count": null,
   "metadata": {},
   "outputs": [],
   "source": []
  }
 ],
 "metadata": {
  "kernelspec": {
   "display_name": "Python (pytorch-gpu-py36)",
   "language": "python",
   "name": "pytorch_gpu"
  },
  "language_info": {
   "codemirror_mode": {
    "name": "ipython",
    "version": 3
   },
   "file_extension": ".py",
   "mimetype": "text/x-python",
   "name": "python",
   "nbconvert_exporter": "python",
   "pygments_lexer": "ipython3",
   "version": "3.6.10"
  }
 },
 "nbformat": 4,
 "nbformat_minor": 2
}

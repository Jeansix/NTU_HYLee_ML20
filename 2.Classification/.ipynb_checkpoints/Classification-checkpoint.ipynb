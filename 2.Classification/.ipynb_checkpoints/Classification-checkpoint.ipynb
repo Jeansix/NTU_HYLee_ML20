{
 "cells": [
  {
   "cell_type": "code",
   "execution_count": 2,
   "metadata": {},
   "outputs": [],
   "source": [
    "import numpy as np\n",
    "import matplotlib.pyplot as plt"
   ]
  },
  {
   "cell_type": "code",
   "execution_count": 3,
   "metadata": {},
   "outputs": [],
   "source": [
    "np.random.seed(0)\n",
    "X_train_fpath = './data/X_train'\n",
    "Y_train_fpath = './data/Y_train'\n",
    "X_test_fpath = './data/X_test'\n",
    "output_fpath = './output_{}.csv'"
   ]
  },
  {
   "cell_type": "code",
   "execution_count": 4,
   "metadata": {},
   "outputs": [],
   "source": [
    "def read_file(fpath,islabel=False):\n",
    "    with open(fpath) as f:\n",
    "        next(f) # skip the first line\n",
    "        if islabel is False:\n",
    "            x=np.array([line.strip('\\n').split(',')[1:] for line in f],dtype=float)\n",
    "        else:\n",
    "            x=np.array([line.strip('\\n').split(',')[1] for line in f],dtype=float)\n",
    "    return x\n",
    "\n",
    "def shuffle(X, Y):\n",
    "    randomize = np.arange(len(X))\n",
    "    np.random.shuffle(randomize)\n",
    "    return (X[randomize], Y[randomize])\n",
    "\n",
    "def train_dev_split(X, Y, dev_ratio = 0.25):\n",
    "    train_size = int(len(X) * (1 - dev_ratio))\n",
    "    return X[:train_size], Y[:train_size], X[train_size:], Y[train_size:]\n",
    "\n",
    "def sigmoid(z):\n",
    "    return np.clip(1/(1.0+np.exp(-z)),1e-8, 1 - (1e-8))\n",
    "\n",
    "\n",
    "def accuracy(Y_pred,Y_label):\n",
    "    acc = 1-np.mean(abs(Y_pred-Y_label))\n",
    "    return acc\n",
    "\n",
    "def cross_entropy_loss(Y_pred, Y_label):\n",
    "    cross_entropy=-np.dot(Y_label,np.log(Y_pred))-np.dot(1-Y_label,np.log(1-Y_pred))\n",
    "    return cross_entropy\n"
   ]
  },
  {
   "cell_type": "code",
   "execution_count": 5,
   "metadata": {},
   "outputs": [],
   "source": [
    "def normalize(X, train = True, specified_column = None, X_mean = None, X_std = None):\n",
    "    if specified_column == None:\n",
    "        specified_column = np.arange(X.shape[1])\n",
    "    if train:\n",
    "        X_mean = np.mean(X[:, specified_column] ,0).reshape(1, -1)\n",
    "        X_std  = np.std(X[:, specified_column], 0).reshape(1, -1)\n",
    "\n",
    "    X[:,specified_column] = (X[:, specified_column] - X_mean) / (X_std + 1e-8)\n",
    "     \n",
    "    return X, X_mean, X_std"
   ]
  },
  {
   "cell_type": "code",
   "execution_count": 20,
   "metadata": {},
   "outputs": [],
   "source": [
    "class DiscriminativeClassifier:\n",
    "    def __init__(self):\n",
    "        self.train_loss = []\n",
    "        self.dev_loss = []\n",
    "        self.train_acc = []\n",
    "        self.dev_acc = []\n",
    "        self.w = None\n",
    "        self.b = None\n",
    "    \n",
    "    def gradient(self,X,Y_label):\n",
    "        z=np.matmul(X,self.w)+self.b\n",
    "        Y_pred=sigmoid(z)\n",
    "        error=Y_label-Y_pred\n",
    "        w_grad=-np.sum(error*X.T,1)\n",
    "        b_grad=-np.sum(error)\n",
    "        return w_grad,b_grad\n",
    "\n",
    "    def train(self,X_train,Y_train,X_dev,Y_dev,batch_size,lr,max_iter):\n",
    "        train_size, dim = X_train.shape\n",
    "        dev_size,_ = X_dev.shape\n",
    "        self.w = np.zeros((dim,)) \n",
    "        self.b = np.zeros((1,))\n",
    "        step = 1\n",
    "        for epoch in range(max_iter):\n",
    "            # Random shuffle at the begging of each epoch\n",
    "            X_train, Y_train = shuffle(X_train, Y_train)\n",
    "        \n",
    "            # Mini-batch training\n",
    "            for idx in range(int(np.floor(train_size / batch_size))):\n",
    "                X = X_train[idx*batch_size:(idx+1)*batch_size]\n",
    "                Y = Y_train[idx*batch_size:(idx+1)*batch_size]\n",
    "\n",
    "                # Compute the gradient\n",
    "                w_grad, b_grad = self.gradient(X, Y)\n",
    "                \n",
    "                # gradient descent update\n",
    "                # learning rate decay with time\n",
    "                self.w-=lr/np.sqrt(step) * w_grad\n",
    "                self.b-=lr/np.sqrt(step) * b_grad\n",
    "\n",
    "                step = step + 1\n",
    "            \n",
    "            # Compute loss and accuracy of training set and development set\n",
    "            z1=np.matmul(X_train,self.w)+self.b\n",
    "            y_train_pred = sigmoid(z1)\n",
    "            Y_train_pred = np.round(y_train_pred)\n",
    "            self.train_acc.append(accuracy(Y_train_pred, Y_train))\n",
    "            self.train_loss.append(cross_entropy_loss(y_train_pred, Y_train) / train_size)\n",
    "\n",
    "            z2=np.matmul(X_dev,self.w)+self.b\n",
    "            y_dev_pred = sigmoid(z2)\n",
    "            Y_dev_pred = np.round(y_dev_pred)\n",
    "            self.dev_acc.append(accuracy(Y_dev_pred, Y_dev))\n",
    "            self.dev_loss.append(cross_entropy_loss(y_dev_pred, Y_dev) / dev_size)\n",
    "\n",
    "        print('Training loss: {}'.format(self.train_loss[-1]))\n",
    "        print('Development loss: {}'.format(self.dev_loss[-1]))\n",
    "        print('Training accuracy: {}'.format(self.train_acc[-1]))\n",
    "        print('Development accuracy: {}'.format(self.dev_acc[-1]))\n",
    "        \n",
    "    def predict(self,X):\n",
    "        z=np.matmul(X,self.w)+self.b\n",
    "        Y_pred=sigmoid(z)\n",
    "        return np.round(Y_pred).astype(np.int)\n",
    "    \n",
    "    def plot_metrics(self):\n",
    "        # Loss curve\n",
    "        plt.plot(self.train_loss)\n",
    "        plt.plot(self.dev_loss)\n",
    "        plt.title('Loss')\n",
    "        plt.legend(['train', 'dev'])\n",
    "        plt.show()\n",
    "\n",
    "        # Accuracy curve\n",
    "        plt.plot(self.train_acc)\n",
    "        plt.plot(self.dev_acc)\n",
    "        plt.title('Accuracy')\n",
    "        plt.legend(['train', 'dev'])\n",
    "        plt.show()\n",
    "        "
   ]
  },
  {
   "cell_type": "markdown",
   "metadata": {},
   "source": [
    "### Test for discriminative classifier"
   ]
  },
  {
   "cell_type": "code",
   "execution_count": 14,
   "metadata": {},
   "outputs": [],
   "source": [
    "X_train = read_file(X_train_fpath)\n",
    "Y_train = read_file(Y_train_fpath,islabel=True)\n",
    "X_test = read_file(X_test_fpath)"
   ]
  },
  {
   "cell_type": "code",
   "execution_count": 15,
   "metadata": {},
   "outputs": [],
   "source": [
    "# Normalization\n",
    "X_train, X_mean, X_std = normalize(X_train, train = True)\n",
    "X_test, _, _= normalize(X_test, train = False, specified_column = None, X_mean = X_mean, X_std = X_std)\n",
    "    \n",
    "# Split data\n",
    "dev_ratio = 0.1\n",
    "X_train, Y_train, X_dev, Y_dev = train_dev_split(X_train, Y_train, dev_ratio = dev_ratio)"
   ]
  },
  {
   "cell_type": "code",
   "execution_count": 21,
   "metadata": {},
   "outputs": [
    {
     "name": "stdout",
     "output_type": "stream",
     "text": [
      "Training loss: 0.2710670643714822\n",
      "Development loss: 0.2964084903742424\n",
      "Training accuracy: 0.8829817734998976\n",
      "Development accuracy: 0.8722816070770365\n"
     ]
    }
   ],
   "source": [
    "dc=DiscriminativeClassifier()\n",
    "dc.train(X_train,Y_train,X_dev,Y_dev,batch_size=8,lr=0.2,max_iter=10)"
   ]
  },
  {
   "cell_type": "code",
   "execution_count": 23,
   "metadata": {},
   "outputs": [
    {
     "data": {
      "image/png": "[encoded data removed]",
      "text/plain": [
       "<Figure size 432x288 with 1 Axes>"
      ]
     },
     "metadata": {},
     "output_type": "display_data"
    },
    {
     "data": {
      "image/png": "[encoded data removed]",
      "text/plain": [
       "<Figure size 432x288 with 1 Axes>"
      ]
     },
     "metadata": {},
     "output_type": "display_data"
    }
   ],
   "source": [
    "dc.plot_metrics()"
   ]
  },
  {
   "cell_type": "code",
   "execution_count": 24,
   "metadata": {},
   "outputs": [],
   "source": [
    "# write to the file\n",
    "predictions = dc.predict(X_test)\n",
    "with open(output_fpath.format('logistic'),'w') as f:\n",
    "    f.write('id,label\\n')\n",
    "    for i,label in enumerate(predictions):\n",
    "        f.write('{},{}\\n'.format(i,label))"
   ]
  },
  {
   "cell_type": "code",
   "execution_count": null,
   "metadata": {},
   "outputs": [],
   "source": [
    "class GenerativeClassifer:\n",
    "    def __init__(self):\n",
    "        self.w=None\n",
    "        self.b=None\n",
    "    def train(X_train,Y_train):\n",
    "        _,dim=X_train.shape\n",
    "        # divide into two classes\n",
    "        X_train_0=np.array([x for x,y in zip(X_train,Y_train) if y==0])\n",
    "        X_train_1=np.array([x for x,y in zip(X_train,Y_train) if y==1])\n",
    "        # calculate mu for each class\n",
    "        mean_0=np.mean(X_train_0,axis=0)\n",
    "        mean_1=np.mean(X_train_1,axis=0)\n",
    "        \n",
    "        # calculate cov for each class\n",
    "        cov_0=np.zeros((dim,dim))\n",
    "        cov_1=np.zeros((dim,dim))\n",
    "        \n",
    "        for x in X_train_0:\n",
    "            cov_0+=np.dot(np.asmatrix(x-mean_0).T,np.asmatrix(x-mean_0))/X_train_0.shape[0]\n",
    "        for x in X_train_1:\n",
    "            cov_1+=np.dot(np.asmatrix(x-mean_1).T,np.asmatrix(x-mean_1))/X_train_1.shape[0]\n",
    "            \n",
    "        # shared cov\n",
    "        cov=(cov_0*X_train_0.shape[0]+cov_1*X_train_1.shape[0])/(X_train_0.shape[0]+X_train_1.shape[0])\n",
    "        \n",
    "        # compute inverse of cov\n",
    "        u,s,v=np.linalg.svd(cov,full_matrices=False)\n",
    "        inv=np.matmul(v.T*1/s,u.T)\n",
    "        \n",
    "        self.w=np.dot(np.asmatrix(mean_0-mean_1).T,inv)\n",
    "        self.b=-0.5*np.dot(mean_0,np.dot(inv,mean_0))+0.5*np.dot(mean_1,np.dot(inv,mean_1))+np.log(float(X_train_0.shape[0])/X_train_1.shape[0])\n",
    "    \n",
    "    def predict(self,X):\n",
    "        z=np.matmul(X,self.w)+self.b\n",
    "        Y_pred=sigmoid(z)\n",
    "        return np.round(Y_pred).astype(np.int)"
   ]
  },
  {
   "cell_type": "markdown",
   "metadata": {},
   "source": [
    "### Test for generative classifier"
   ]
  },
  {
   "cell_type": "code",
   "execution_count": 12,
   "metadata": {},
   "outputs": [],
   "source": [
    "X_train = read_file(X_train_fpath)\n",
    "Y_train = read_file(Y_train_fpath,islabel=True)\n",
    "X_test = read_file(X_test_fpath)"
   ]
  },
  {
   "cell_type": "code",
   "execution_count": null,
   "metadata": {},
   "outputs": [],
   "source": [
    "# Normalization\n",
    "X_train, X_mean, X_std = normalize(X_train, train = True)\n",
    "X_test, _, _= normalize(X_test, train = False, specified_column = None, X_mean = X_mean, X_std = X_std)\n",
    "    \n",
    "# Split data\n",
    "dev_ratio = 0.1\n",
    "X_train, Y_train, X_dev, Y_dev = train_dev_split(X_train, Y_train, dev_ratio = dev_ratio)"
   ]
  }
 ],
 "metadata": {
  "kernelspec": {
   "display_name": "Python 3",
   "language": "python",
   "name": "python3"
  },
  "language_info": {
   "codemirror_mode": {
    "name": "ipython",
    "version": 3
   },
   "file_extension": ".py",
   "mimetype": "text/x-python",
   "name": "python",
   "nbconvert_exporter": "python",
   "pygments_lexer": "ipython3",
   "version": "3.6.2"
  }
 },
 "nbformat": 4,
 "nbformat_minor": 2
}

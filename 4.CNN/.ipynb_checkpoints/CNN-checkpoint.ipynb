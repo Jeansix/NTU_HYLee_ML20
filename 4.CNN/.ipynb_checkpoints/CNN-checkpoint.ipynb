{
 "cells": [
  {
   "cell_type": "code",
   "execution_count": 1,
   "metadata": {},
   "outputs": [],
   "source": [
    "import os\n",
    "import numpy as np\n",
    "import cv2\n",
    "import torch\n",
    "import torch.nn as nn\n",
    "import torchvision.transforms as transforms\n",
    "import pandas as pd\n",
    "from torch.utils.data import DataLoader, Dataset\n",
    "import time"
   ]
  },
  {
   "cell_type": "markdown",
   "metadata": {},
   "source": [
    "ImageFolder way of loading data.\n",
    "Load faster but train slower."
   ]
  },
  {
   "cell_type": "code",
   "execution_count": null,
   "metadata": {},
   "outputs": [],
   "source": [
    "# 将图像RGB三个通道的像素值分别减去0.5再除以0.5，从而将所有像素值\n",
    "# 固定到[-1.0, 1.0]范围内\n",
    "#加上transforms\n",
    "ROOT_TRAIN = r'D:\\university\\大四前进（1）\\机器学习\\NTU_HYLee_ML20\\4.CNN\\food-11\\training'\n",
    "ROOT_VAL=r'D:\\university\\大四前进（1）\\机器学习\\NTU_HYLee_ML20\\4.CNN\\food-11\\validation'\n",
    "normalize=transforms.Normalize(mean=[.5,.5,.5],std=[.5,.5,.5])\n",
    "train_transform = transforms.Compose([\n",
    "    transforms.Resize((128, 128)), # 裁剪为128 * 128\n",
    "    transforms.RandomVerticalFlip(), # 随机垂直翻转\n",
    "    transforms.ToTensor(), # 将0-127范围的像素转为0-1.0范围的tensor\n",
    "    normalize])\n",
    "test_transform = transforms.Compose([\n",
    "    transforms.Resize((128, 128)),\n",
    "    transforms.ToTensor(),\n",
    "])\n",
    "train_dataset = ImageFolder(ROOT_TRAIN, transform=train_transform)\n",
    "val_dataset = ImageFolder(ROOT_VAL, transform=test_transform)\n",
    "batch_size=8\n",
    "train_loader = DataLoader(train_dataset, batch_size=batch_size, shuffle=True)\n",
    "val_loader = DataLoader(val_dataset, batch_size=batch_size, shuffle=False)"
   ]
  },
  {
   "cell_type": "markdown",
   "metadata": {},
   "source": [
    "#### 读取数据"
   ]
  },
  {
   "cell_type": "code",
   "execution_count": 2,
   "metadata": {},
   "outputs": [
    {
     "name": "stdout",
     "output_type": "stream",
     "text": [
      "Reading data\n",
      "Size of training data = 9866\n",
      "Size of validation data = 3430\n",
      "Size of Testing data = 3347\n"
     ]
    }
   ],
   "source": [
    "def readfile(path, label):\n",
    "    image_dir = sorted(os.listdir(path))\n",
    "    x = np.zeros((len(image_dir), 128, 128, 3), dtype=np.uint8)\n",
    "    y = np.zeros((len(image_dir)), dtype=np.uint8)\n",
    "    for i, file in enumerate(image_dir):\n",
    "        img = cv2.imread(os.path.join(path, file))\n",
    "        x[i, :, :] = cv2.resize(img,(128, 128))\n",
    "        if label:\n",
    "            y[i] = int(file.split(\"_\")[0])\n",
    "    if label:\n",
    "        return x, y\n",
    "    else:\n",
    "        return x\n",
    "workspace_dir = './food-11'\n",
    "print(\"Reading data\")\n",
    "train_x, train_y = readfile(os.path.join(workspace_dir, \"training\"), True)\n",
    "print(\"Size of training data = {}\".format(len(train_x)))\n",
    "val_x, val_y = readfile(os.path.join(workspace_dir, \"validation\"), True)\n",
    "print(\"Size of validation data = {}\".format(len(val_x)))\n",
    "test_x = readfile(os.path.join(workspace_dir, \"testing\"), False)\n",
    "print(\"Size of Testing data = {}\".format(len(test_x)))"
   ]
  },
  {
   "cell_type": "code",
   "execution_count": 15,
   "metadata": {},
   "outputs": [],
   "source": [
    "#data augumemtation,need for training\n",
    "train_transform=transforms.Compose([\n",
    "    transforms.ToPILImage(),\n",
    "    transforms.RandomHorizontalFlip(),\n",
    "    transforms.RandomRotation(15),\n",
    "    transforms.ToTensor(),\n",
    "])\n",
    "test_transform=transforms.Compose([\n",
    "    transforms.ToPILImage(),\n",
    "    transforms.ToTensor(),\n",
    "])\n",
    "# rewrite __len__ and __getitem__ method\n",
    "# encapsulate dataset\n",
    "# makes it easier for training\n",
    "class ImgDataset(Dataset):\n",
    "    def __init__(self,x,y=None,transform=None):\n",
    "        self.x=x\n",
    "        self.y=y\n",
    "        if y is not None:\n",
    "            self.y=torch.LongTensor(y)\n",
    "        self.transform=transform\n",
    "    def __len__(self):\n",
    "        return len(self.x)\n",
    "    def __getitem__(self,index):\n",
    "        X=self.x[index]\n",
    "        if self.transform is not None:\n",
    "            X=self.transform(X)\n",
    "        if self.y is not None:\n",
    "            Y=self.y[index]\n",
    "            return X,Y\n",
    "        else:\n",
    "            return X"
   ]
  },
  {
   "cell_type": "code",
   "execution_count": 16,
   "metadata": {},
   "outputs": [],
   "source": [
    "batch_size=8\n",
    "#Dataset\n",
    "train_set=ImgDataset(train_x,train_y,train_transform)\n",
    "val_set=ImgDataset(val_x,val_y,test_transform)\n",
    "#DataLoader\n",
    "train_loader=DataLoader(train_set,batch_size=batch_size,shuffle=True)\n",
    "val_loader=DataLoader(val_set,batch_size=batch_size,shuffle=False)"
   ]
  },
  {
   "cell_type": "markdown",
   "metadata": {},
   "source": [
    "#### 模型"
   ]
  },
  {
   "cell_type": "code",
   "execution_count": 6,
   "metadata": {},
   "outputs": [],
   "source": [
    "# torch.nn.Conv2d(in_channels, out_channels, kernel_size, stride, padding)\n",
    "# feature map:(n+2p-f)/s+1,n-original size;p-padding;f-filter size;s-stride\n",
    "# torch.nn.MaxPool2d(kernel_size, stride, padding)\n",
    "# initial dimension[3,128,128]\n",
    "\n",
    "class Classifier(nn.Module):\n",
    "    def __init__(self):\n",
    "        super(Classifier, self).__init__()\n",
    "        self.cnn = nn.Sequential(\n",
    "            nn.Conv2d(3, 64, 3, 1, 1),  # [64, 128, 128]\n",
    "            nn.BatchNorm2d(64),\n",
    "            nn.ReLU(),\n",
    "            nn.MaxPool2d(2, 2, 0),      # [64, 64, 64]\n",
    "\n",
    "            nn.Conv2d(64, 128, 3, 1, 1), # [128, 64, 64]\n",
    "            nn.BatchNorm2d(128),\n",
    "            nn.ReLU(),\n",
    "            nn.MaxPool2d(2, 2, 0),      # [128, 32, 32]\n",
    "\n",
    "            nn.Conv2d(128, 256, 3, 1, 1), # [256, 32, 32]\n",
    "            nn.BatchNorm2d(256),\n",
    "            nn.ReLU(),\n",
    "            nn.MaxPool2d(2, 2, 0),      # [256, 16, 16]\n",
    "\n",
    "            nn.Conv2d(256, 512, 3, 1, 1), # [512, 16, 16]\n",
    "            nn.BatchNorm2d(512),\n",
    "            nn.ReLU(),\n",
    "            nn.MaxPool2d(2, 2, 0),       # [512, 8, 8]\n",
    "            \n",
    "            nn.Conv2d(512, 512, 3, 1, 1), # [512, 8, 8]\n",
    "            nn.BatchNorm2d(512),\n",
    "            nn.ReLU(),\n",
    "            nn.MaxPool2d(2, 2, 0),       # [512, 4, 4]\n",
    "        )\n",
    "        self.fc = nn.Sequential(\n",
    "            nn.Linear(512*4*4, 1024),\n",
    "            nn.ReLU(),\n",
    "            nn.Linear(1024, 512),\n",
    "            nn.ReLU(),\n",
    "            nn.Linear(512, 11)\n",
    "        )\n",
    "\n",
    "    def forward(self, x):\n",
    "        out = self.cnn(x)\n",
    "        out = out.view(out.size()[0], -1)# flatten the conv layer\n",
    "        return self.fc(out)\n"
   ]
  },
  {
   "cell_type": "markdown",
   "metadata": {},
   "source": [
    "#### 训练"
   ]
  },
  {
   "cell_type": "code",
   "execution_count": 7,
   "metadata": {},
   "outputs": [],
   "source": [
    "# instance the model, loss, optimizer\n",
    "model=Classifier().cuda()\n",
    "loss=nn.CrossEntropyLoss()\n",
    "optimizer=torch.optim.Adam(model.parameters(), lr=0.001)\n",
    "num_epoch=10 # the optimum value is 43"
   ]
  },
  {
   "cell_type": "code",
   "execution_count": 25,
   "metadata": {},
   "outputs": [
    {
     "name": "stdout",
     "output_type": "stream",
     "text": [
      "[041/050] 88.82 sec(s) Train Acc: 0.783296 Loss: 0.076865 | Val Acc: 0.583673 loss: 0.189175\n",
      "[042/050] 89.79 sec(s) Train Acc: 0.792824 Loss: 0.074142 | Val Acc: 0.601458 loss: 0.182420\n",
      "[043/050] 90.21 sec(s) Train Acc: 0.807217 Loss: 0.070327 | Val Acc: 0.585714 loss: 0.180024\n",
      "[044/050] 90.77 sec(s) Train Acc: 0.807521 Loss: 0.068512 | Val Acc: 0.589213 loss: 0.186801\n",
      "[045/050] 90.80 sec(s) Train Acc: 0.821407 Loss: 0.063707 | Val Acc: 0.560058 loss: 0.213665\n",
      "[046/050] 90.98 sec(s) Train Acc: 0.829820 Loss: 0.061475 | Val Acc: 0.590962 loss: 0.196705\n",
      "[047/050] 92.11 sec(s) Train Acc: 0.839246 Loss: 0.057448 | Val Acc: 0.604665 loss: 0.207144\n",
      "[048/050] 91.91 sec(s) Train Acc: 0.846037 Loss: 0.055345 | Val Acc: 0.587464 loss: 0.209641\n",
      "[049/050] 91.56 sec(s) Train Acc: 0.860328 Loss: 0.052074 | Val Acc: 0.616618 loss: 0.196142\n",
      "[050/050] 91.79 sec(s) Train Acc: 0.861038 Loss: 0.050401 | Val Acc: 0.607872 loss: 0.208604\n"
     ]
    }
   ],
   "source": [
    "# the training process\n",
    "for epoch in range(num_epoch):\n",
    "    epoch_start_time=time.time()\n",
    "    train_acc=0.0\n",
    "    train_loss=0.0\n",
    "    val_acc=0.0\n",
    "    val_loss=0.0\n",
    "    \n",
    "    model.train()\n",
    "    for i,data in enumerate(train_loader):\n",
    "        optimizer.zero_grad()\n",
    "        train_pred=model(data[0].cuda())\n",
    "        batch_loss=loss(train_pred,data[1].cuda())\n",
    "        batch_loss.backward()\n",
    "        optimizer.step()\n",
    "        \n",
    "        train_acc+=np.sum(np.argmax(train_pred.cpu().data.numpy(),axis=1)==data[1].numpy())\n",
    "        train_loss+=batch_loss.item()\n",
    "        \n",
    "    model.eval()\n",
    "    with torch.no_grad():\n",
    "        for i,data in enumerate(val_loader):\n",
    "            val_pred=model(data[0].cuda())\n",
    "            batch_loss=loss(val_pred,data[1].cuda())\n",
    "            val_acc+=np.sum(np.argmax(val_pred.cpu().data.numpy(),axis=1)==data[1].numpy())\n",
    "            val_loss+=batch_loss.item()\n",
    "        print('[%03d/%03d] %2.2f sec(s) Train Acc: %3.6f Loss: %3.6f | Val Acc: %3.6f loss: %3.6f' % \\\n",
    "            (epoch + 41, num_epoch+20, time.time()-epoch_start_time, \\\n",
    "             train_acc/train_set.__len__(), train_loss/train_set.__len__(), val_acc/val_set.__len__(), val_loss/val_set.__len__()))"
   ]
  },
  {
   "cell_type": "markdown",
   "metadata": {},
   "source": [
    "#### 再次训练"
   ]
  },
  {
   "cell_type": "code",
   "execution_count": 26,
   "metadata": {},
   "outputs": [],
   "source": [
    "# 同时使用train_set和val_set的数据\n",
    "train_val_x=np.concatenate((train_x,val_x),axis=0)\n",
    "train_val_y=np.concatenate((train_y,val_y),axis=0)\n",
    "train_val_set = ImgDataset(train_val_x, train_val_y, train_transform)\n",
    "train_val_loader = DataLoader(train_val_set, batch_size=batch_size, shuffle=True)"
   ]
  },
  {
   "cell_type": "code",
   "execution_count": 27,
   "metadata": {},
   "outputs": [],
   "source": [
    "model_best=Classifier().cuda()\n",
    "loss=nn.CrossEntropyLoss()\n",
    "optimizer=torch.optim.Adam(model_best.parameters(), lr=0.001)\n",
    "num_epoch=10"
   ]
  },
  {
   "cell_type": "code",
   "execution_count": null,
   "metadata": {},
   "outputs": [],
   "source": [
    "# the training process\n",
    "for epoch in range(num_epoch):\n",
    "    epoch_start_time=time.time()\n",
    "    train_acc=0.0\n",
    "    train_loss=0.0\n",
    "    \n",
    "    model_best.train()\n",
    "    for i,data in enumerate(train_val_loader):\n",
    "        optimizer.zero_grad()\n",
    "        train_val_pred=model_best(data[0].cuda())\n",
    "        batch_loss=loss(train_val_pred,data[1].cuda())\n",
    "        batch_loss.backward()\n",
    "        optimizer.step()\n",
    "        \n",
    "        train_acc += np.sum(np.argmax(train_pred.cpu().data.numpy(), axis=1) == data[1].numpy())\n",
    "        train_loss += batch_loss.item()\n",
    "    print('[%03d/%03d] %2.2f sec(s) Train Acc: %3.6f Loss: %3.6f' % \\\n",
    "      (epoch + 1, num_epoch, time.time()-epoch_start_time, \\\n",
    "      train_acc/train_val_set.__len__(), train_loss/train_val_set.__len__()))"
   ]
  },
  {
   "cell_type": "markdown",
   "metadata": {},
   "source": [
    "#### 测试"
   ]
  },
  {
   "cell_type": "code",
   "execution_count": 31,
   "metadata": {},
   "outputs": [],
   "source": [
    "test_set = ImgDataset(test_x, transform=test_transform)\n",
    "test_loader = DataLoader(test_set, batch_size=batch_size, shuffle=False)"
   ]
  },
  {
   "cell_type": "code",
   "execution_count": 32,
   "metadata": {},
   "outputs": [],
   "source": [
    "model.eval()\n",
    "predictions=[]\n",
    "with torch.no_grad():\n",
    "    for i,data in enumerate(test_loader):\n",
    "        test_pred=model(data.cuda())\n",
    "        test_label=np.argmax(test_pred.cpu().data.numpy(),axis=1)\n",
    "        for y in test_label:\n",
    "            predictions.append(y)"
   ]
  },
  {
   "cell_type": "code",
   "execution_count": 35,
   "metadata": {},
   "outputs": [],
   "source": [
    "with open(\"predict.csv\",'w') as f:\n",
    "    f.write('Id,Category\\n')\n",
    "    for i,y in enumerate(predictions):\n",
    "        f.write('{},{}\\n'.format(i,y))"
   ]
  },
  {
   "cell_type": "code",
   "execution_count": null,
   "metadata": {},
   "outputs": [],
   "source": []
  }
 ],
 "metadata": {
  "kernelspec": {
   "display_name": "Python (pytorch-gpu-py36)",
   "language": "python",
   "name": "pytorch_gpu"
  },
  "language_info": {
   "codemirror_mode": {
    "name": "ipython",
    "version": 3
   },
   "file_extension": ".py",
   "mimetype": "text/x-python",
   "name": "python",
   "nbconvert_exporter": "python",
   "pygments_lexer": "ipython3",
   "version": "3.6.10"
  }
 },
 "nbformat": 4,
 "nbformat_minor": 2
}
